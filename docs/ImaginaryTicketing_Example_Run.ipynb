{
  "nbformat": 4,
  "nbformat_minor": 0,
  "metadata": {
    "colab": {
      "name": "ImaginaryTicketing Example Run.ipynb",
      "provenance": [],
      "toc_visible": true
    },
    "kernelspec": {
      "name": "python3",
      "display_name": "Python 3"
    },
    "language_info": {
      "name": "python"
    }
  },
  "cells": [
    {
      "cell_type": "markdown",
      "metadata": {
        "id": "Jkg_GBL3nsMf"
      },
      "source": [
        "**note:** \n",
        "- to see the bot in motion, skip to [the twelfth cell](#cell-12)\n",
        "- python3.9 will be used, however if you dont want to, feel free to skip ahead to INSERT LINK HERE. If you don't want to use pm2 as a process manager, feel free to disregard that part. However if you do choose to use PM2 and a diferrent python version, make sure to change the path in process.json.  \n",
        "\n",
        "[1]: https://discord.com/developers/applications"
      ]
    },
    {
      "cell_type": "markdown",
      "metadata": {
        "id": "1tgtQs4bIegX"
      },
      "source": [
        "# Preliminaries\n",
        "\n",
        "- install python3.9(optional)\n",
        "- install pm2(optional)\n",
        "- install gunicorn3(optional)"
      ]
    },
    {
      "cell_type": "code",
      "metadata": {
        "id": "uF51w97y8ALo",
        "colab": {
          "base_uri": "https://localhost:8080/"
        },
        "outputId": "c3bbe10f-cbf1-4eef-ba71-78610e95fd14"
      },
      "source": [
        "!apt update"
      ],
      "execution_count": 1,
      "outputs": [
        {
          "output_type": "stream",
          "text": [
            "Hit:1 https://cloud.r-project.org/bin/linux/ubuntu bionic-cran40/ InRelease\n",
            "Ign:2 https://developer.download.nvidia.com/compute/cuda/repos/ubuntu1804/x86_64  InRelease\n",
            "Get:3 http://security.ubuntu.com/ubuntu bionic-security InRelease [88.7 kB]\n",
            "Ign:4 https://developer.download.nvidia.com/compute/machine-learning/repos/ubuntu1804/x86_64  InRelease\n",
            "Get:5 https://developer.download.nvidia.com/compute/cuda/repos/ubuntu1804/x86_64  Release [697 B]\n",
            "Hit:6 http://ppa.launchpad.net/c2d4u.team/c2d4u4.0+/ubuntu bionic InRelease\n",
            "Hit:7 http://archive.ubuntu.com/ubuntu bionic InRelease\n",
            "Hit:8 https://developer.download.nvidia.com/compute/machine-learning/repos/ubuntu1804/x86_64  Release\n",
            "Get:9 https://developer.download.nvidia.com/compute/cuda/repos/ubuntu1804/x86_64  Release.gpg [836 B]\n",
            "Get:10 http://archive.ubuntu.com/ubuntu bionic-updates InRelease [88.7 kB]\n",
            "Hit:11 http://ppa.launchpad.net/cran/libgit2/ubuntu bionic InRelease\n",
            "Get:13 http://ppa.launchpad.net/deadsnakes/ppa/ubuntu bionic InRelease [15.9 kB]\n",
            "Ign:14 https://developer.download.nvidia.com/compute/cuda/repos/ubuntu1804/x86_64  Packages\n",
            "Get:14 https://developer.download.nvidia.com/compute/cuda/repos/ubuntu1804/x86_64  Packages [599 kB]\n",
            "Get:15 http://archive.ubuntu.com/ubuntu bionic-backports InRelease [74.6 kB]\n",
            "Get:16 http://security.ubuntu.com/ubuntu bionic-security/main amd64 Packages [2,185 kB]\n",
            "Get:17 http://ppa.launchpad.net/graphics-drivers/ppa/ubuntu bionic InRelease [21.3 kB]\n",
            "Get:18 http://archive.ubuntu.com/ubuntu bionic-updates/universe amd64 Packages [2,188 kB]\n",
            "Get:19 http://ppa.launchpad.net/deadsnakes/ppa/ubuntu bionic/main amd64 Packages [40.9 kB]\n",
            "Get:20 http://security.ubuntu.com/ubuntu bionic-security/universe amd64 Packages [1,415 kB]\n",
            "Get:21 http://archive.ubuntu.com/ubuntu bionic-updates/restricted amd64 Packages [505 kB]\n",
            "Get:22 http://archive.ubuntu.com/ubuntu bionic-updates/main amd64 Packages [2,652 kB]\n",
            "Get:23 http://ppa.launchpad.net/graphics-drivers/ppa/ubuntu bionic/main amd64 Packages [41.5 kB]\n",
            "Fetched 9,916 kB in 4s (2,458 kB/s)\n",
            "Reading package lists... Done\n",
            "Building dependency tree       \n",
            "Reading state information... Done\n",
            "70 packages can be upgraded. Run 'apt list --upgradable' to see them.\n"
          ],
          "name": "stdout"
        }
      ]
    },
    {
      "cell_type": "code",
      "metadata": {
        "id": "vd9wvE9fDBhF",
        "colab": {
          "base_uri": "https://localhost:8080/"
        },
        "outputId": "7003c5d0-ba3a-4cf3-878b-d2f7276fa69e"
      },
      "source": [
        "!apt install software-properties-common "
      ],
      "execution_count": 2,
      "outputs": [
        {
          "output_type": "stream",
          "text": [
            "Reading package lists... Done\n",
            "Building dependency tree       \n",
            "Reading state information... Done\n",
            "software-properties-common is already the newest version (0.96.24.32.14).\n",
            "0 upgraded, 0 newly installed, 0 to remove and 70 not upgraded.\n"
          ],
          "name": "stdout"
        }
      ]
    },
    {
      "cell_type": "code",
      "metadata": {
        "id": "oL7Sju9YDE04",
        "colab": {
          "base_uri": "https://localhost:8080/"
        },
        "outputId": "ccab8000-4747-4f35-ff1f-2130e04681ac"
      },
      "source": [
        "!add-apt-repository ppa:deadsnakes/ppa  -y"
      ],
      "execution_count": 3,
      "outputs": [
        {
          "output_type": "stream",
          "text": [
            "Ign:1 https://developer.download.nvidia.com/compute/cuda/repos/ubuntu1804/x86_64  InRelease\n",
            "Hit:2 http://security.ubuntu.com/ubuntu bionic-security InRelease\n",
            "Ign:3 https://developer.download.nvidia.com/compute/machine-learning/repos/ubuntu1804/x86_64  InRelease\n",
            "Hit:4 https://developer.download.nvidia.com/compute/cuda/repos/ubuntu1804/x86_64  Release\n",
            "Hit:5 https://developer.download.nvidia.com/compute/machine-learning/repos/ubuntu1804/x86_64  Release\n",
            "Hit:6 http://ppa.launchpad.net/c2d4u.team/c2d4u4.0+/ubuntu bionic InRelease\n",
            "Hit:7 https://cloud.r-project.org/bin/linux/ubuntu bionic-cran40/ InRelease\n",
            "Hit:8 http://archive.ubuntu.com/ubuntu bionic InRelease\n",
            "Hit:11 http://ppa.launchpad.net/cran/libgit2/ubuntu bionic InRelease\n",
            "Hit:12 http://archive.ubuntu.com/ubuntu bionic-updates InRelease\n",
            "Hit:13 http://archive.ubuntu.com/ubuntu bionic-backports InRelease\n",
            "Hit:14 http://ppa.launchpad.net/deadsnakes/ppa/ubuntu bionic InRelease\n",
            "Hit:15 http://ppa.launchpad.net/graphics-drivers/ppa/ubuntu bionic InRelease\n",
            "Reading package lists... Done\n"
          ],
          "name": "stdout"
        }
      ]
    },
    {
      "cell_type": "code",
      "metadata": {
        "id": "6OOPOnKIEYxZ",
        "colab": {
          "base_uri": "https://localhost:8080/"
        },
        "outputId": "1cdcb117-6c4c-4d8e-a26f-fecc6d3841e4"
      },
      "source": [
        "!apt install python3.9 python3-pip python3.9-distutils"
      ],
      "execution_count": 4,
      "outputs": [
        {
          "output_type": "stream",
          "text": [
            "Reading package lists... Done\n",
            "Building dependency tree       \n",
            "Reading state information... Done\n",
            "The following additional packages will be installed:\n",
            "  libpython3.9-minimal libpython3.9-stdlib python-pip-whl python3-asn1crypto\n",
            "  python3-cffi-backend python3-crypto python3-cryptography python3-idna\n",
            "  python3-keyring python3-keyrings.alt python3-pkg-resources\n",
            "  python3-secretstorage python3-setuptools python3-six python3-wheel\n",
            "  python3-xdg python3.9-lib2to3 python3.9-minimal\n",
            "Suggested packages:\n",
            "  python-crypto-doc python-cryptography-doc python3-cryptography-vectors\n",
            "  gnome-keyring libkf5wallet-bin gir1.2-gnomekeyring-1.0\n",
            "  python-secretstorage-doc python-setuptools-doc python3.9-venv python3.9-doc\n",
            "  binfmt-support\n",
            "The following NEW packages will be installed:\n",
            "  libpython3.9-minimal libpython3.9-stdlib python-pip-whl python3-asn1crypto\n",
            "  python3-cffi-backend python3-crypto python3-cryptography python3-idna\n",
            "  python3-keyring python3-keyrings.alt python3-pip python3-pkg-resources\n",
            "  python3-secretstorage python3-setuptools python3-six python3-wheel\n",
            "  python3-xdg python3.9 python3.9-distutils python3.9-lib2to3\n",
            "  python3.9-minimal\n",
            "0 upgraded, 21 newly installed, 0 to remove and 70 not upgraded.\n",
            "Need to get 8,044 kB of archives.\n",
            "After this operation, 29.1 MB of additional disk space will be used.\n",
            "Get:1 http://ppa.launchpad.net/deadsnakes/ppa/ubuntu bionic/main amd64 libpython3.9-minimal amd64 3.9.5-1+bionic1 [787 kB]\n",
            "Get:2 http://archive.ubuntu.com/ubuntu bionic-updates/universe amd64 python-pip-whl all 9.0.1-2.3~ubuntu1.18.04.5 [1,653 kB]\n",
            "Get:3 http://ppa.launchpad.net/deadsnakes/ppa/ubuntu bionic/main amd64 python3.9-minimal amd64 3.9.5-1+bionic1 [1,905 kB]\n",
            "Get:4 http://archive.ubuntu.com/ubuntu bionic/main amd64 python3-asn1crypto all 0.24.0-1 [72.8 kB]\n",
            "Get:5 http://archive.ubuntu.com/ubuntu bionic/main amd64 python3-cffi-backend amd64 1.11.5-1 [64.6 kB]\n",
            "Get:6 http://archive.ubuntu.com/ubuntu bionic/main amd64 python3-crypto amd64 2.6.1-8ubuntu2 [244 kB]\n",
            "Get:7 http://archive.ubuntu.com/ubuntu bionic/main amd64 python3-idna all 2.6-1 [32.5 kB]\n",
            "Get:8 http://archive.ubuntu.com/ubuntu bionic/main amd64 python3-six all 1.11.0-2 [11.4 kB]\n",
            "Get:9 http://archive.ubuntu.com/ubuntu bionic-updates/main amd64 python3-cryptography amd64 2.1.4-1ubuntu1.4 [220 kB]\n",
            "Get:10 http://archive.ubuntu.com/ubuntu bionic/main amd64 python3-secretstorage all 2.3.1-2 [12.1 kB]\n",
            "Get:11 http://archive.ubuntu.com/ubuntu bionic/main amd64 python3-keyring all 10.6.0-1 [26.7 kB]\n",
            "Get:12 http://archive.ubuntu.com/ubuntu bionic/main amd64 python3-keyrings.alt all 3.0-1 [16.6 kB]\n",
            "Get:13 http://archive.ubuntu.com/ubuntu bionic-updates/universe amd64 python3-pip all 9.0.1-2.3~ubuntu1.18.04.5 [114 kB]\n",
            "Get:14 http://archive.ubuntu.com/ubuntu bionic/main amd64 python3-pkg-resources all 39.0.1-2 [98.8 kB]\n",
            "Get:15 http://archive.ubuntu.com/ubuntu bionic/main amd64 python3-setuptools all 39.0.1-2 [248 kB]\n",
            "Get:16 http://archive.ubuntu.com/ubuntu bionic/universe amd64 python3-wheel all 0.30.0-0.2 [36.5 kB]\n",
            "Get:17 http://archive.ubuntu.com/ubuntu bionic-updates/main amd64 python3-xdg all 0.25-4ubuntu1.1 [31.3 kB]\n",
            "Get:18 http://ppa.launchpad.net/deadsnakes/ppa/ubuntu bionic/main amd64 libpython3.9-stdlib amd64 3.9.5-1+bionic1 [1,685 kB]\n",
            "Get:19 http://ppa.launchpad.net/deadsnakes/ppa/ubuntu bionic/main amd64 python3.9 amd64 3.9.5-1+bionic1 [469 kB]\n",
            "Get:20 http://ppa.launchpad.net/deadsnakes/ppa/ubuntu bionic/main amd64 python3.9-lib2to3 all 3.9.5-1+bionic1 [125 kB]\n",
            "Get:21 http://ppa.launchpad.net/deadsnakes/ppa/ubuntu bionic/main amd64 python3.9-distutils all 3.9.5-1+bionic1 [190 kB]\n",
            "Fetched 8,044 kB in 10s (787 kB/s)\n",
            "Selecting previously unselected package libpython3.9-minimal:amd64.\n",
            "(Reading database ... 160772 files and directories currently installed.)\n",
            "Preparing to unpack .../00-libpython3.9-minimal_3.9.5-1+bionic1_amd64.deb ...\n",
            "Unpacking libpython3.9-minimal:amd64 (3.9.5-1+bionic1) ...\n",
            "Selecting previously unselected package python3.9-minimal.\n",
            "Preparing to unpack .../01-python3.9-minimal_3.9.5-1+bionic1_amd64.deb ...\n",
            "Unpacking python3.9-minimal (3.9.5-1+bionic1) ...\n",
            "Selecting previously unselected package libpython3.9-stdlib:amd64.\n",
            "Preparing to unpack .../02-libpython3.9-stdlib_3.9.5-1+bionic1_amd64.deb ...\n",
            "Unpacking libpython3.9-stdlib:amd64 (3.9.5-1+bionic1) ...\n",
            "Selecting previously unselected package python-pip-whl.\n",
            "Preparing to unpack .../03-python-pip-whl_9.0.1-2.3~ubuntu1.18.04.5_all.deb ...\n",
            "Unpacking python-pip-whl (9.0.1-2.3~ubuntu1.18.04.5) ...\n",
            "Selecting previously unselected package python3-asn1crypto.\n",
            "Preparing to unpack .../04-python3-asn1crypto_0.24.0-1_all.deb ...\n",
            "Unpacking python3-asn1crypto (0.24.0-1) ...\n",
            "Selecting previously unselected package python3-cffi-backend.\n",
            "Preparing to unpack .../05-python3-cffi-backend_1.11.5-1_amd64.deb ...\n",
            "Unpacking python3-cffi-backend (1.11.5-1) ...\n",
            "Selecting previously unselected package python3-crypto.\n",
            "Preparing to unpack .../06-python3-crypto_2.6.1-8ubuntu2_amd64.deb ...\n",
            "Unpacking python3-crypto (2.6.1-8ubuntu2) ...\n",
            "Selecting previously unselected package python3-idna.\n",
            "Preparing to unpack .../07-python3-idna_2.6-1_all.deb ...\n",
            "Unpacking python3-idna (2.6-1) ...\n",
            "Selecting previously unselected package python3-six.\n",
            "Preparing to unpack .../08-python3-six_1.11.0-2_all.deb ...\n",
            "Unpacking python3-six (1.11.0-2) ...\n",
            "Selecting previously unselected package python3-cryptography.\n",
            "Preparing to unpack .../09-python3-cryptography_2.1.4-1ubuntu1.4_amd64.deb ...\n",
            "Unpacking python3-cryptography (2.1.4-1ubuntu1.4) ...\n",
            "Selecting previously unselected package python3-secretstorage.\n",
            "Preparing to unpack .../10-python3-secretstorage_2.3.1-2_all.deb ...\n",
            "Unpacking python3-secretstorage (2.3.1-2) ...\n",
            "Selecting previously unselected package python3-keyring.\n",
            "Preparing to unpack .../11-python3-keyring_10.6.0-1_all.deb ...\n",
            "Unpacking python3-keyring (10.6.0-1) ...\n",
            "Selecting previously unselected package python3-keyrings.alt.\n",
            "Preparing to unpack .../12-python3-keyrings.alt_3.0-1_all.deb ...\n",
            "Unpacking python3-keyrings.alt (3.0-1) ...\n",
            "Selecting previously unselected package python3-pip.\n",
            "Preparing to unpack .../13-python3-pip_9.0.1-2.3~ubuntu1.18.04.5_all.deb ...\n",
            "Unpacking python3-pip (9.0.1-2.3~ubuntu1.18.04.5) ...\n",
            "Selecting previously unselected package python3-pkg-resources.\n",
            "Preparing to unpack .../14-python3-pkg-resources_39.0.1-2_all.deb ...\n",
            "Unpacking python3-pkg-resources (39.0.1-2) ...\n",
            "Selecting previously unselected package python3-setuptools.\n",
            "Preparing to unpack .../15-python3-setuptools_39.0.1-2_all.deb ...\n",
            "Unpacking python3-setuptools (39.0.1-2) ...\n",
            "Selecting previously unselected package python3-wheel.\n",
            "Preparing to unpack .../16-python3-wheel_0.30.0-0.2_all.deb ...\n",
            "Unpacking python3-wheel (0.30.0-0.2) ...\n",
            "Selecting previously unselected package python3-xdg.\n",
            "Preparing to unpack .../17-python3-xdg_0.25-4ubuntu1.1_all.deb ...\n",
            "Unpacking python3-xdg (0.25-4ubuntu1.1) ...\n",
            "Selecting previously unselected package python3.9.\n",
            "Preparing to unpack .../18-python3.9_3.9.5-1+bionic1_amd64.deb ...\n",
            "Unpacking python3.9 (3.9.5-1+bionic1) ...\n",
            "Selecting previously unselected package python3.9-lib2to3.\n",
            "Preparing to unpack .../19-python3.9-lib2to3_3.9.5-1+bionic1_all.deb ...\n",
            "Unpacking python3.9-lib2to3 (3.9.5-1+bionic1) ...\n",
            "Selecting previously unselected package python3.9-distutils.\n",
            "Preparing to unpack .../20-python3.9-distutils_3.9.5-1+bionic1_all.deb ...\n",
            "Unpacking python3.9-distutils (3.9.5-1+bionic1) ...\n",
            "Setting up python-pip-whl (9.0.1-2.3~ubuntu1.18.04.5) ...\n",
            "Setting up python3-cffi-backend (1.11.5-1) ...\n",
            "Setting up python3-crypto (2.6.1-8ubuntu2) ...\n",
            "Setting up python3-idna (2.6-1) ...\n",
            "Setting up python3-xdg (0.25-4ubuntu1.1) ...\n",
            "Setting up python3-six (1.11.0-2) ...\n",
            "Setting up python3-wheel (0.30.0-0.2) ...\n",
            "Setting up python3-pkg-resources (39.0.1-2) ...\n",
            "Setting up python3-asn1crypto (0.24.0-1) ...\n",
            "Setting up python3-pip (9.0.1-2.3~ubuntu1.18.04.5) ...\n",
            "Setting up python3.9-lib2to3 (3.9.5-1+bionic1) ...\n",
            "Setting up python3-setuptools (39.0.1-2) ...\n",
            "Setting up libpython3.9-minimal:amd64 (3.9.5-1+bionic1) ...\n",
            "Setting up python3-cryptography (2.1.4-1ubuntu1.4) ...\n",
            "Setting up libpython3.9-stdlib:amd64 (3.9.5-1+bionic1) ...\n",
            "Setting up python3-keyrings.alt (3.0-1) ...\n",
            "Setting up python3.9-minimal (3.9.5-1+bionic1) ...\n",
            "Setting up python3.9-distutils (3.9.5-1+bionic1) ...\n",
            "Setting up python3.9 (3.9.5-1+bionic1) ...\n",
            "Setting up python3-secretstorage (2.3.1-2) ...\n",
            "Setting up python3-keyring (10.6.0-1) ...\n",
            "Processing triggers for mime-support (3.60ubuntu1) ...\n",
            "Processing triggers for man-db (2.8.3-2ubuntu0.1) ...\n"
          ],
          "name": "stdout"
        }
      ]
    },
    {
      "cell_type": "code",
      "metadata": {
        "id": "8DV90dksEtE5"
      },
      "source": [
        "!ln -s /usr/bin/python3.9 /usr/local/bin/python3.9"
      ],
      "execution_count": 5,
      "outputs": []
    },
    {
      "cell_type": "code",
      "metadata": {
        "id": "94VE2n8xILpQ",
        "colab": {
          "base_uri": "https://localhost:8080/"
        },
        "outputId": "45f7f602-56bf-4799-de8d-97481d9260f1"
      },
      "source": [
        "!npm install -g pm2"
      ],
      "execution_count": 6,
      "outputs": [
        {
          "output_type": "stream",
          "text": [
            "\u001b[K\u001b[?25h\u001b[37;40mnpm\u001b[0m \u001b[0m\u001b[30;43mWARN\u001b[0m \u001b[0m\u001b[35mdeprecated\u001b[0m uuid@3.4.0: Please upgrade  to version 7 or higher.  Older versions may use Math.random() in certain circumstances, which is known to be problematic.  See https://v8.dev/blog/math-random for details.\n",
            "\u001b[K\u001b[?25h/tools/node/bin/pm2 -> /tools/node/lib/node_modules/pm2/bin/pm2\n",
            "/tools/node/bin/pm2-dev -> /tools/node/lib/node_modules/pm2/bin/pm2-dev\n",
            "/tools/node/bin/pm2-docker -> /tools/node/lib/node_modules/pm2/bin/pm2-docker\n",
            "/tools/node/bin/pm2-runtime -> /tools/node/lib/node_modules/pm2/bin/pm2-runtime\n",
            "\u001b[K\u001b[?25h\u001b[37;40mnpm\u001b[0m \u001b[0m\u001b[30;43mWARN\u001b[0m \u001b[0m\u001b[35moptional\u001b[0m SKIPPING OPTIONAL DEPENDENCY: fsevents@~2.3.2 (node_modules/pm2/node_modules/chokidar/node_modules/fsevents):\n",
            "\u001b[0m\u001b[37;40mnpm\u001b[0m \u001b[0m\u001b[30;43mWARN\u001b[0m \u001b[0m\u001b[35mnotsup\u001b[0m SKIPPING OPTIONAL DEPENDENCY: Unsupported platform for fsevents@2.3.2: wanted {\"os\":\"darwin\",\"arch\":\"any\"} (current: {\"os\":\"linux\",\"arch\":\"x64\"})\n",
            "\u001b[0m\n",
            "+ pm2@5.1.0\n",
            "added 180 packages from 203 contributors in 11.629s\n"
          ],
          "name": "stdout"
        }
      ]
    },
    {
      "cell_type": "code",
      "metadata": {
        "id": "JVwEHBhO720b",
        "colab": {
          "base_uri": "https://localhost:8080/"
        },
        "outputId": "902e4864-6e4b-4fe0-9bfc-067c3968664c"
      },
      "source": [
        "!apt-get install gunicorn3"
      ],
      "execution_count": 7,
      "outputs": [
        {
          "output_type": "stream",
          "text": [
            "Reading package lists... Done\n",
            "Building dependency tree       \n",
            "Reading state information... Done\n",
            "The following additional packages will be installed:\n",
            "  python3-gunicorn\n",
            "Suggested packages:\n",
            "  gunicorn-examples python3-pastedeploy python3-setproctitle python3-tornado\n",
            "The following NEW packages will be installed:\n",
            "  gunicorn3 python3-gunicorn\n",
            "0 upgraded, 2 newly installed, 0 to remove and 70 not upgraded.\n",
            "Need to get 93.4 kB of archives.\n",
            "After this operation, 469 kB of additional disk space will be used.\n",
            "Get:1 http://archive.ubuntu.com/ubuntu bionic/universe amd64 python3-gunicorn all 19.7.1-4 [81.9 kB]\n",
            "Get:2 http://archive.ubuntu.com/ubuntu bionic/universe amd64 gunicorn3 all 19.7.1-4 [11.5 kB]\n",
            "Fetched 93.4 kB in 1s (72.0 kB/s)\n",
            "Selecting previously unselected package python3-gunicorn.\n",
            "(Reading database ... 162225 files and directories currently installed.)\n",
            "Preparing to unpack .../python3-gunicorn_19.7.1-4_all.deb ...\n",
            "Unpacking python3-gunicorn (19.7.1-4) ...\n",
            "Selecting previously unselected package gunicorn3.\n",
            "Preparing to unpack .../gunicorn3_19.7.1-4_all.deb ...\n",
            "Unpacking gunicorn3 (19.7.1-4) ...\n",
            "Setting up python3-gunicorn (19.7.1-4) ...\n",
            "Setting up gunicorn3 (19.7.1-4) ...\n",
            "Processing triggers for man-db (2.8.3-2ubuntu0.1) ...\n"
          ],
          "name": "stdout"
        }
      ]
    },
    {
      "cell_type": "markdown",
      "metadata": {
        "id": "9kVs1oe9nvaQ"
      },
      "source": [
        "# Getting started\n",
        "First step, download the code 😎"
      ]
    },
    {
      "cell_type": "code",
      "metadata": {
        "id": "nfyGzqrMnm5o",
        "colab": {
          "base_uri": "https://localhost:8080/"
        },
        "outputId": "42b376d1-7569-4ebf-ab9f-7ef25177a428"
      },
      "source": [
        "!git clone https://github.com/0x6F72656F73/ImaginaryTicketing"
      ],
      "execution_count": 8,
      "outputs": [
        {
          "output_type": "stream",
          "text": [
            "Cloning into 'ImaginaryTicketing'...\n",
            "remote: Enumerating objects: 195, done.\u001b[K\n",
            "remote: Counting objects: 100% (195/195), done.\u001b[K\n",
            "remote: Compressing objects: 100% (141/141), done.\u001b[K\n",
            "remote: Total 195 (delta 96), reused 88 (delta 36), pack-reused 0\u001b[K\n",
            "Receiving objects: 100% (195/195), 68.86 KiB | 482.00 KiB/s, done.\n",
            "Resolving deltas: 100% (96/96), done.\n"
          ],
          "name": "stdout"
        }
      ]
    },
    {
      "cell_type": "code",
      "metadata": {
        "id": "W4Z7WNn5nymm",
        "colab": {
          "base_uri": "https://localhost:8080/"
        },
        "outputId": "be82d9b4-ef7a-4db8-af2c-48caac1af423"
      },
      "source": [
        "%cd ImaginaryTicketing/"
      ],
      "execution_count": 9,
      "outputs": [
        {
          "output_type": "stream",
          "text": [
            "/content/ImaginaryTicketing\n"
          ],
          "name": "stdout"
        }
      ]
    },
    {
      "cell_type": "markdown",
      "metadata": {
        "id": "VqMLpLMBn26j"
      },
      "source": [
        "# Installing requirements\n",
        "Now install the requirements for the bot with pip\n"
      ]
    },
    {
      "cell_type": "code",
      "metadata": {
        "id": "Fwz--qlzn1xf",
        "colab": {
          "base_uri": "https://localhost:8080/"
        },
        "outputId": "d010a8ff-117a-4494-fe36-e8901d014b58"
      },
      "source": [
        "!python3.9 -m pip install --upgrade setuptools pip distlib; python3.9 -m pip install -r requirements.txt "
      ],
      "execution_count": 12,
      "outputs": [
        {
          "output_type": "stream",
          "text": [
            "Requirement already satisfied: setuptools in /usr/local/lib/python3.9/dist-packages (57.0.0)\n",
            "Requirement already satisfied: pip in /usr/local/lib/python3.9/dist-packages (21.1.2)\n",
            "Requirement already satisfied: distlib in /usr/local/lib/python3.9/dist-packages (0.3.2)\n",
            "\u001b[33mWARNING: Running pip as root will break packages and permissions. You should install packages reliably by using venv: https://pip.pypa.io/warnings/venv\u001b[0m\n",
            "Collecting chat_exporter\n",
            "  Downloading chat_exporter-1.4.1-py3-none-any.whl (39 kB)\n",
            "Collecting discord\n",
            "  Downloading discord-1.7.3-py3-none-any.whl (1.1 kB)\n",
            "Collecting humanize\n",
            "  Downloading humanize-3.9.0-py3-none-any.whl (84 kB)\n",
            "\u001b[K     |████████████████████████████████| 84 kB 1.8 MB/s \n",
            "\u001b[?25hCollecting python-dotenv\n",
            "  Downloading python_dotenv-0.18.0-py2.py3-none-any.whl (18 kB)\n",
            "Collecting discord-pretty-help\n",
            "  Downloading discord_pretty_help-1.3.1-py3-none-any.whl (9.1 kB)\n",
            "Collecting discord-ext-forms\n",
            "  Downloading discord_ext_forms-3.0.0-py3-none-any.whl (9.9 kB)\n",
            "Collecting uvloop\n",
            "  Downloading uvloop-0.15.2-cp39-cp39-manylinux2010_x86_64.whl (4.3 MB)\n",
            "\u001b[K     |████████████████████████████████| 4.3 MB 7.4 MB/s \n",
            "\u001b[?25hCollecting flask\n",
            "  Downloading Flask-2.0.1-py3-none-any.whl (94 kB)\n",
            "\u001b[K     |████████████████████████████████| 94 kB 3.1 MB/s \n",
            "\u001b[?25hCollecting flask_limiter\n",
            "  Downloading Flask_Limiter-1.4-py3-none-any.whl (15 kB)\n",
            "Collecting requests\n",
            "  Downloading requests-2.25.1-py2.py3-none-any.whl (61 kB)\n",
            "\u001b[K     |████████████████████████████████| 61 kB 5.5 MB/s \n",
            "\u001b[?25hCollecting emoji\n",
            "  Downloading emoji-1.2.0-py3-none-any.whl (131 kB)\n",
            "\u001b[K     |████████████████████████████████| 131 kB 42.1 MB/s \n",
            "\u001b[?25hCollecting discord.py\n",
            "  Downloading discord.py-1.7.3-py3-none-any.whl (786 kB)\n",
            "\u001b[K     |████████████████████████████████| 786 kB 35.9 MB/s \n",
            "\u001b[?25hCollecting pytz\n",
            "  Downloading pytz-2021.1-py2.py3-none-any.whl (510 kB)\n",
            "\u001b[K     |████████████████████████████████| 510 kB 46.6 MB/s \n",
            "\u001b[?25hCollecting grapheme\n",
            "  Downloading grapheme-0.6.0.tar.gz (207 kB)\n",
            "\u001b[K     |████████████████████████████████| 207 kB 61.3 MB/s \n",
            "\u001b[?25hCollecting Pillow\n",
            "  Downloading Pillow-8.2.0-cp39-cp39-manylinux1_x86_64.whl (3.0 MB)\n",
            "\u001b[K     |████████████████████████████████| 3.0 MB 52.2 MB/s \n",
            "\u001b[?25hCollecting aiohttp<3.8.0,>=3.6.0\n",
            "  Downloading aiohttp-3.7.4.post0-cp39-cp39-manylinux2014_x86_64.whl (1.4 MB)\n",
            "\u001b[K     |████████████████████████████████| 1.4 MB 69.4 MB/s \n",
            "\u001b[?25hCollecting async-timeout<4.0,>=3.0\n",
            "  Downloading async_timeout-3.0.1-py3-none-any.whl (8.2 kB)\n",
            "Collecting typing-extensions>=3.6.5\n",
            "  Downloading typing_extensions-3.10.0.0-py3-none-any.whl (26 kB)\n",
            "Collecting chardet<5.0,>=2.0\n",
            "  Downloading chardet-4.0.0-py2.py3-none-any.whl (178 kB)\n",
            "\u001b[K     |████████████████████████████████| 178 kB 55.6 MB/s \n",
            "\u001b[?25hCollecting yarl<2.0,>=1.0\n",
            "  Downloading yarl-1.6.3-cp39-cp39-manylinux2014_x86_64.whl (315 kB)\n",
            "\u001b[K     |████████████████████████████████| 315 kB 54.2 MB/s \n",
            "\u001b[?25hCollecting multidict<7.0,>=4.5\n",
            "  Downloading multidict-5.1.0-cp39-cp39-manylinux2014_x86_64.whl (151 kB)\n",
            "\u001b[K     |████████████████████████████████| 151 kB 58.5 MB/s \n",
            "\u001b[?25hCollecting attrs>=17.3.0\n",
            "  Downloading attrs-21.2.0-py2.py3-none-any.whl (53 kB)\n",
            "\u001b[K     |████████████████████████████████| 53 kB 2.2 MB/s \n",
            "\u001b[?25hRequirement already satisfied: idna>=2.0 in /usr/lib/python3/dist-packages (from yarl<2.0,>=1.0->aiohttp<3.8.0,>=3.6.0->discord.py->chat_exporter->-r requirements.txt (line 1)) (2.6)\n",
            "Requirement already satisfied: setuptools in /usr/local/lib/python3.9/dist-packages (from humanize->-r requirements.txt (line 3)) (57.0.0)\n",
            "Collecting Jinja2>=3.0\n",
            "  Downloading Jinja2-3.0.1-py3-none-any.whl (133 kB)\n",
            "\u001b[K     |████████████████████████████████| 133 kB 55.9 MB/s \n",
            "\u001b[?25hCollecting click>=7.1.2\n",
            "  Downloading click-8.0.1-py3-none-any.whl (97 kB)\n",
            "\u001b[K     |████████████████████████████████| 97 kB 6.1 MB/s \n",
            "\u001b[?25hCollecting Werkzeug>=2.0\n",
            "  Downloading Werkzeug-2.0.1-py3-none-any.whl (288 kB)\n",
            "\u001b[K     |████████████████████████████████| 288 kB 54.3 MB/s \n",
            "\u001b[?25hCollecting itsdangerous>=2.0\n",
            "  Downloading itsdangerous-2.0.1-py3-none-any.whl (18 kB)\n",
            "Collecting MarkupSafe>=2.0\n",
            "  Downloading MarkupSafe-2.0.1-cp39-cp39-manylinux2010_x86_64.whl (30 kB)\n",
            "Requirement already satisfied: six>=1.4.1 in /usr/lib/python3/dist-packages (from flask_limiter->-r requirements.txt (line 9)) (1.11.0)\n",
            "Collecting limits\n",
            "  Downloading limits-1.5.1.tar.gz (37 kB)\n",
            "Collecting certifi>=2017.4.17\n",
            "  Downloading certifi-2021.5.30-py2.py3-none-any.whl (145 kB)\n",
            "\u001b[K     |████████████████████████████████| 145 kB 56.6 MB/s \n",
            "\u001b[?25hCollecting urllib3<1.27,>=1.21.1\n",
            "  Downloading urllib3-1.26.5-py2.py3-none-any.whl (138 kB)\n",
            "\u001b[K     |████████████████████████████████| 138 kB 59.5 MB/s \n",
            "\u001b[?25hBuilding wheels for collected packages: grapheme, limits\n",
            "  Building wheel for grapheme (setup.py) ... \u001b[?25l\u001b[?25hdone\n",
            "  Created wheel for grapheme: filename=grapheme-0.6.0-py3-none-any.whl size=213010 sha256=20d0e050252269f3db25206298afbb2e840bf20079c8de6457137ddc47bb799e\n",
            "  Stored in directory: /root/.cache/pip/wheels/91/a8/bc/5b55a10f763ee2c066ff2d94058d7dd64d570fc45adc027b3d\n",
            "  Building wheel for limits (setup.py) ... \u001b[?25l\u001b[?25hdone\n",
            "  Created wheel for limits: filename=limits-1.5.1-py3-none-any.whl size=16164 sha256=92930aacaeb38cedae06047563b1058e198eba96d674ef19d1dad49a815b3f14\n",
            "  Stored in directory: /root/.cache/pip/wheels/69/a0/7c/6a5e4d6138e7a7938e0e8cc8159156fe4e8b6552db9ff8ec20\n",
            "Successfully built grapheme limits\n",
            "Installing collected packages: multidict, yarl, typing-extensions, MarkupSafe, chardet, attrs, async-timeout, Werkzeug, urllib3, Jinja2, itsdangerous, click, certifi, aiohttp, requests, pytz, Pillow, limits, grapheme, flask, emoji, discord.py, uvloop, python-dotenv, humanize, flask-limiter, discord-pretty-help, discord-ext-forms, discord, chat-exporter\n",
            "Successfully installed Jinja2-3.0.1 MarkupSafe-2.0.1 Pillow-8.2.0 Werkzeug-2.0.1 aiohttp-3.7.4.post0 async-timeout-3.0.1 attrs-21.2.0 certifi-2021.5.30 chardet-4.0.0 chat-exporter-1.4.1 click-8.0.1 discord-1.7.3 discord-ext-forms-3.0.0 discord-pretty-help-1.3.1 discord.py-1.7.3 emoji-1.2.0 flask-2.0.1 flask-limiter-1.4 grapheme-0.6.0 humanize-3.9.0 itsdangerous-2.0.1 limits-1.5.1 multidict-5.1.0 python-dotenv-0.18.0 pytz-2021.1 requests-2.25.1 typing-extensions-3.10.0.0 urllib3-1.26.5 uvloop-0.15.2 yarl-1.6.3\n",
            "\u001b[33mWARNING: Running pip as root will break packages and permissions. You should install packages reliably by using venv: https://pip.pypa.io/warnings/venv\u001b[0m\n"
          ],
          "name": "stdout"
        }
      ]
    },
    {
      "cell_type": "code",
      "metadata": {
        "id": "tG18M3MNoCW6",
        "colab": {
          "base_uri": "https://localhost:8080/"
        },
        "outputId": "1828f47e-782f-49c2-fe4b-6831c99d56c5"
      },
      "source": [
        "%cd src/"
      ],
      "execution_count": 13,
      "outputs": [
        {
          "output_type": "stream",
          "text": [
            "/content/ImaginaryTicketing/src\n"
          ],
          "name": "stdout"
        }
      ]
    },
    {
      "cell_type": "markdown",
      "metadata": {
        "id": "_b9UR7SsoA1a"
      },
      "source": [
        "Now put your bot token and prefix in a .env file.\n",
        "<a name=\"cell-12\"></a>\n"
      ]
    },
    {
      "cell_type": "code",
      "metadata": {
        "id": "d2maGva_oHFi",
        "colab": {
          "base_uri": "https://localhost:8080/"
        },
        "outputId": "969fe358-2238-4684-d2eb-0715501e7cd9"
      },
      "source": [
        "!echo \"DISCORD_TOKEN=ODM5NjM0MTAxNDgwMzI1MjEw.YJMgMQ.K35TdO5uW3E__KSiq9oP3XvoJbI\" > .env;\n",
        "!echo \"BOT_PREFIX = ['t.']\" >> .env; cat .env"
      ],
      "execution_count": 14,
      "outputs": [
        {
          "output_type": "stream",
          "text": [
            "DISCORD_TOKEN=ODM5NjM0MTAxNDgwMzI1MjEw.YJMgMQ.K35TdO5uW3E__KSiq9oP3XvoJbI\n",
            "BOT_PREFIX = ['t.']\n"
          ],
          "name": "stdout"
        }
      ]
    },
    {
      "cell_type": "markdown",
      "metadata": {
        "id": "aOUWZD17oNLI"
      },
      "source": [
        "The last step is getting the database to work. There is some logic in the bot that requires sqlite 3.24 and above and in my experience simply doing `apt install sqlite3` doesn't give a version > 3.22. However, if it does work for you, feel free to skip installing it from source."
      ]
    },
    {
      "cell_type": "code",
      "metadata": {
        "id": "CTXVgCrdoI66",
        "colab": {
          "base_uri": "https://localhost:8080/"
        },
        "outputId": "36791d51-6c22-4e2b-f0a1-aeb1df1535e8"
      },
      "source": [
        "!apt install sqlite3"
      ],
      "execution_count": 15,
      "outputs": [
        {
          "output_type": "stream",
          "text": [
            "Reading package lists... Done\n",
            "Building dependency tree       \n",
            "Reading state information... Done\n",
            "Suggested packages:\n",
            "  sqlite3-doc\n",
            "The following NEW packages will be installed:\n",
            "  sqlite3\n",
            "0 upgraded, 1 newly installed, 0 to remove and 70 not upgraded.\n",
            "Need to get 752 kB of archives.\n",
            "After this operation, 2,482 kB of additional disk space will be used.\n",
            "Get:1 http://archive.ubuntu.com/ubuntu bionic-updates/main amd64 sqlite3 amd64 3.22.0-1ubuntu0.4 [752 kB]\n",
            "Fetched 752 kB in 2s (363 kB/s)\n",
            "Selecting previously unselected package sqlite3.\n",
            "(Reading database ... 162290 files and directories currently installed.)\n",
            "Preparing to unpack .../sqlite3_3.22.0-1ubuntu0.4_amd64.deb ...\n",
            "Unpacking sqlite3 (3.22.0-1ubuntu0.4) ...\n",
            "Setting up sqlite3 (3.22.0-1ubuntu0.4) ...\n",
            "Processing triggers for man-db (2.8.3-2ubuntu0.1) ...\n"
          ],
          "name": "stdout"
        }
      ]
    },
    {
      "cell_type": "code",
      "metadata": {
        "id": "qROsnJb_oaql",
        "colab": {
          "base_uri": "https://localhost:8080/"
        },
        "outputId": "b8115760-3efa-4fa0-b3ac-fd7e389b39c5"
      },
      "source": [
        "!sqlite3 --version"
      ],
      "execution_count": 16,
      "outputs": [
        {
          "output_type": "stream",
          "text": [
            "3.22.0 2018-01-22 18:45:57 0c55d179733b46d8d0ba4d88e01a25e10677046ee3da1d5b1581e86726f2alt1\n"
          ],
          "name": "stdout"
        }
      ]
    },
    {
      "cell_type": "markdown",
      "metadata": {
        "id": "M8FCTe9Xod6K"
      },
      "source": [
        "As 3.22 is not enough, we're going to install from [source][1]. A good tutorial can be found [here][2]. At the time of this writing, 3.36 is the latest version, however feel free to install any relatively new version.\n",
        " \n",
        "[1]: https://www.sqlite.org/download.html\n",
        "[2]: https://www.vultr.com/docs/how-to-install-the-latest-version-of-sqlite3"
      ]
    },
    {
      "cell_type": "code",
      "metadata": {
        "id": "L32eBP1codA5",
        "colab": {
          "base_uri": "https://localhost:8080/"
        },
        "outputId": "c7e7199f-e7d9-40a5-bfe0-fbaa9c5a2c3f"
      },
      "source": [
        "%cd ../../"
      ],
      "execution_count": 17,
      "outputs": [
        {
          "output_type": "stream",
          "text": [
            "/content\n"
          ],
          "name": "stdout"
        }
      ]
    },
    {
      "cell_type": "code",
      "metadata": {
        "id": "DsvOBIdlo4_M",
        "colab": {
          "base_uri": "https://localhost:8080/"
        },
        "outputId": "0a033d11-9d4f-4ce0-c49c-6d0aeae282b8"
      },
      "source": [
        "!wget https://www.sqlite.org/2021/sqlite-autoconf-3360000.tar.gz; tar xvfz sqlite-autoconf-3360000.tar.gz"
      ],
      "execution_count": 18,
      "outputs": [
        {
          "output_type": "stream",
          "text": [
            "--2021-06-23 00:12:02--  https://www.sqlite.org/2021/sqlite-autoconf-3360000.tar.gz\n",
            "Resolving www.sqlite.org (www.sqlite.org)... 45.33.6.223, 2600:3c00::f03c:91ff:fe96:b959\n",
            "Connecting to www.sqlite.org (www.sqlite.org)|45.33.6.223|:443... connected.\n",
            "HTTP request sent, awaiting response... 200 OK\n",
            "Length: 2977080 (2.8M) [application/x-gzip]\n",
            "Saving to: ‘sqlite-autoconf-3360000.tar.gz’\n",
            "\n",
            "sqlite-autoconf-336 100%[===================>]   2.84M  2.56MB/s    in 1.1s    \n",
            "\n",
            "2021-06-23 00:12:04 (2.56 MB/s) - ‘sqlite-autoconf-3360000.tar.gz’ saved [2977080/2977080]\n",
            "\n",
            "sqlite-autoconf-3360000/\n",
            "sqlite-autoconf-3360000/sqlite3.rc\n",
            "sqlite-autoconf-3360000/README.txt\n",
            "sqlite-autoconf-3360000/aclocal.m4\n",
            "sqlite-autoconf-3360000/sqlite3.c\n",
            "sqlite-autoconf-3360000/Makefile.am\n",
            "sqlite-autoconf-3360000/configure\n",
            "sqlite-autoconf-3360000/configure.ac\n",
            "sqlite-autoconf-3360000/config.guess\n",
            "sqlite-autoconf-3360000/Makefile.in\n",
            "sqlite-autoconf-3360000/config.sub\n",
            "sqlite-autoconf-3360000/install-sh\n",
            "sqlite-autoconf-3360000/sqlite3rc.h\n",
            "sqlite-autoconf-3360000/sqlite3.1\n",
            "sqlite-autoconf-3360000/shell.c\n",
            "sqlite-autoconf-3360000/sqlite3.pc.in\n",
            "sqlite-autoconf-3360000/Replace.cs\n",
            "sqlite-autoconf-3360000/depcomp\n",
            "sqlite-autoconf-3360000/missing\n",
            "sqlite-autoconf-3360000/ltmain.sh\n",
            "sqlite-autoconf-3360000/sqlite3ext.h\n",
            "sqlite-autoconf-3360000/Makefile.msc\n",
            "sqlite-autoconf-3360000/sqlite3.h\n",
            "sqlite-autoconf-3360000/Makefile.fallback\n",
            "sqlite-autoconf-3360000/tea/\n",
            "sqlite-autoconf-3360000/tea/aclocal.m4\n",
            "sqlite-autoconf-3360000/tea/configure\n",
            "sqlite-autoconf-3360000/tea/configure.ac\n",
            "sqlite-autoconf-3360000/tea/Makefile.in\n",
            "sqlite-autoconf-3360000/tea/README\n",
            "sqlite-autoconf-3360000/tea/generic/\n",
            "sqlite-autoconf-3360000/tea/generic/tclsqlite3.c\n",
            "sqlite-autoconf-3360000/tea/tclconfig/\n",
            "sqlite-autoconf-3360000/tea/tclconfig/tcl.m4\n",
            "sqlite-autoconf-3360000/tea/tclconfig/install-sh\n",
            "sqlite-autoconf-3360000/tea/doc/\n",
            "sqlite-autoconf-3360000/tea/doc/sqlite3.n\n",
            "sqlite-autoconf-3360000/tea/pkgIndex.tcl.in\n",
            "sqlite-autoconf-3360000/tea/win/\n",
            "sqlite-autoconf-3360000/tea/win/rules.vc\n",
            "sqlite-autoconf-3360000/tea/win/nmakehlp.c\n",
            "sqlite-autoconf-3360000/tea/win/makefile.vc\n",
            "sqlite-autoconf-3360000/tea/license.terms\n",
            "sqlite-autoconf-3360000/INSTALL\n",
            "sqlite-autoconf-3360000/compile\n"
          ],
          "name": "stdout"
        }
      ]
    },
    {
      "cell_type": "code",
      "metadata": {
        "id": "vUDESp911upM",
        "colab": {
          "base_uri": "https://localhost:8080/"
        },
        "outputId": "d022f01c-1196-4ffe-f9dd-e9d3693b25a2"
      },
      "source": [
        "%cd sqlite-autoconf-3360000/\n",
        "! ./configure; make; sudo make install"
      ],
      "execution_count": 19,
      "outputs": [
        {
          "output_type": "stream",
          "text": [
            "/content/sqlite-autoconf-3360000\n",
            "checking for a BSD-compatible install... /usr/bin/install -c\n",
            "checking whether build environment is sane... yes\n",
            "checking for a thread-safe mkdir -p... /bin/mkdir -p\n",
            "checking for gawk... no\n",
            "checking for mawk... mawk\n",
            "checking whether make sets $(MAKE)... yes\n",
            "checking whether make supports nested variables... yes\n",
            "checking for style of include used by make... GNU\n",
            "checking for gcc... gcc\n",
            "checking whether the C compiler works... yes\n",
            "checking for C compiler default output file name... a.out\n",
            "checking for suffix of executables... \n",
            "checking whether we are cross compiling... no\n",
            "checking for suffix of object files... o\n",
            "checking whether we are using the GNU C compiler... yes\n",
            "checking whether gcc accepts -g... yes\n",
            "checking for gcc option to accept ISO C89... none needed\n",
            "checking whether gcc understands -c and -o together... yes\n",
            "checking dependency style of gcc... gcc3\n",
            "checking for special C compiler options needed for large files... no\n",
            "checking for _FILE_OFFSET_BITS value needed for large files... no\n",
            "checking for gcc... (cached) gcc\n",
            "checking whether we are using the GNU C compiler... (cached) yes\n",
            "checking whether gcc accepts -g... (cached) yes\n",
            "checking for gcc option to accept ISO C89... (cached) none needed\n",
            "checking whether gcc understands -c and -o together... (cached) yes\n",
            "checking dependency style of gcc... (cached) gcc3\n",
            "checking build system type... x86_64-pc-linux-gnu\n",
            "checking host system type... x86_64-pc-linux-gnu\n",
            "checking how to print strings... printf\n",
            "checking for a sed that does not truncate output... /bin/sed\n",
            "checking for grep that handles long lines and -e... /bin/grep\n",
            "checking for egrep... /bin/grep -E\n",
            "checking for fgrep... /bin/grep -F\n",
            "checking for ld used by gcc... /usr/bin/ld\n",
            "checking if the linker (/usr/bin/ld) is GNU ld... yes\n",
            "checking for BSD- or MS-compatible name lister (nm)... /usr/bin/nm -B\n",
            "checking the name lister (/usr/bin/nm -B) interface... BSD nm\n",
            "checking whether ln -s works... yes\n",
            "checking the maximum length of command line arguments... 1572864\n",
            "checking how to convert x86_64-pc-linux-gnu file names to x86_64-pc-linux-gnu format... func_convert_file_noop\n",
            "checking how to convert x86_64-pc-linux-gnu file names to toolchain format... func_convert_file_noop\n",
            "checking for /usr/bin/ld option to reload object files... -r\n",
            "checking for objdump... objdump\n",
            "checking how to recognize dependent libraries... pass_all\n",
            "checking for dlltool... no\n",
            "checking how to associate runtime and link libraries... printf %s\\n\n",
            "checking for ar... ar\n",
            "checking for archiver @FILE support... @\n",
            "checking for strip... strip\n",
            "checking for ranlib... ranlib\n",
            "checking command to parse /usr/bin/nm -B output from gcc object... ok\n",
            "checking for sysroot... no\n",
            "checking for a working dd... /bin/dd\n",
            "checking how to truncate binary pipes... /bin/dd bs=4096 count=1\n",
            "./configure: line 7449: /usr/bin/file: No such file or directory\n",
            "checking for mt... no\n",
            "checking if : is a manifest tool... no\n",
            "checking how to run the C preprocessor... gcc -E\n",
            "checking for ANSI C header files... yes\n",
            "checking for sys/types.h... yes\n",
            "checking for sys/stat.h... yes\n",
            "checking for stdlib.h... yes\n",
            "checking for string.h... yes\n",
            "checking for memory.h... yes\n",
            "checking for strings.h... yes\n",
            "checking for inttypes.h... yes\n",
            "checking for stdint.h... yes\n",
            "checking for unistd.h... yes\n",
            "checking for dlfcn.h... yes\n",
            "checking for objdir... .libs\n",
            "checking if gcc supports -fno-rtti -fno-exceptions... no\n",
            "checking for gcc option to produce PIC... -fPIC -DPIC\n",
            "checking if gcc PIC flag -fPIC -DPIC works... yes\n",
            "checking if gcc static flag -static works... yes\n",
            "checking if gcc supports -c -o file.o... yes\n",
            "checking if gcc supports -c -o file.o... (cached) yes\n",
            "checking whether the gcc linker (/usr/bin/ld) supports shared libraries... yes\n",
            "checking whether -lc should be explicitly linked in... no\n",
            "checking dynamic linker characteristics... GNU/Linux ld.so\n",
            "checking how to hardcode library paths into programs... immediate\n",
            "checking whether stripping libraries is possible... yes\n",
            "checking if libtool supports shared libraries... yes\n",
            "checking whether to build shared libraries... yes\n",
            "checking whether to build static libraries... yes\n",
            "checking for fdatasync... yes\n",
            "checking for usleep... yes\n",
            "checking for fullfsync... no\n",
            "checking for localtime_r... yes\n",
            "checking for gmtime_r... yes\n",
            "checking whether strerror_r is declared... yes\n",
            "checking for strerror_r... yes\n",
            "checking whether strerror_r returns char *... no\n",
            "checking editline/readline.h usability... no\n",
            "checking editline/readline.h presence... no\n",
            "checking for editline/readline.h... no\n",
            "checking readline/readline.h usability... yes\n",
            "checking readline/readline.h presence... yes\n",
            "checking for readline/readline.h... yes\n",
            "checking for library containing tgetent... -ltermcap\n",
            "checking for library containing readline... -lreadline\n",
            "checking for library containing pthread_create... -lpthread\n",
            "checking for library containing pthread_mutexattr_init... none required\n",
            "checking for library containing dlopen... -ldl\n",
            "checking for whether to support dynamic extensions... yes\n",
            "checking SQL math functions... enabled\n",
            "checking for library containing ceil... -lm\n",
            "checking FTS4 extension... enabled\n",
            "checking FTS3 extension... disabled\n",
            "checking FTS5 extension... enabled\n",
            "checking for library containing log... none required\n",
            "checking JSON functions... enabled\n",
            "checking RTREE extension... enabled\n",
            "checking Session extension... disabled\n",
            "checking Build type... release\n",
            "checking for posix_fallocate... yes\n",
            "checking zlib.h usability... yes\n",
            "checking zlib.h presence... yes\n",
            "checking for zlib.h... yes\n",
            "checking for library containing deflate... -lz\n",
            "checking for library containing system... none required\n",
            "checking that generated files are newer than configure... done\n",
            "configure: creating ./config.status\n",
            "config.status: creating Makefile\n",
            "config.status: creating sqlite3.pc\n",
            "config.status: executing depfiles commands\n",
            "config.status: executing libtool commands\n",
            "/bin/bash ./libtool  --tag=CC   --mode=compile gcc -DPACKAGE_NAME=\\\"sqlite\\\" -DPACKAGE_TARNAME=\\\"sqlite\\\" -DPACKAGE_VERSION=\\\"3.36.0\\\" -DPACKAGE_STRING=\\\"sqlite\\ 3.36.0\\\" -DPACKAGE_BUGREPORT=\\\"http://www.sqlite.org\\\" -DPACKAGE_URL=\\\"\\\" -DPACKAGE=\\\"sqlite\\\" -DVERSION=\\\"3.36.0\\\" -DSTDC_HEADERS=1 -DHAVE_SYS_TYPES_H=1 -DHAVE_SYS_STAT_H=1 -DHAVE_STDLIB_H=1 -DHAVE_STRING_H=1 -DHAVE_MEMORY_H=1 -DHAVE_STRINGS_H=1 -DHAVE_INTTYPES_H=1 -DHAVE_STDINT_H=1 -DHAVE_UNISTD_H=1 -DHAVE_DLFCN_H=1 -DLT_OBJDIR=\\\".libs/\\\" -DHAVE_FDATASYNC=1 -DHAVE_USLEEP=1 -DHAVE_LOCALTIME_R=1 -DHAVE_GMTIME_R=1 -DHAVE_DECL_STRERROR_R=1 -DHAVE_STRERROR_R=1 -DHAVE_READLINE_READLINE_H=1 -DHAVE_READLINE=1 -DHAVE_POSIX_FALLOCATE=1 -DHAVE_ZLIB_H=1 -I.    -D_REENTRANT=1 -DSQLITE_THREADSAFE=1 -DSQLITE_ENABLE_MATH_FUNCTIONS -DSQLITE_ENABLE_FTS4 -DSQLITE_ENABLE_FTS5 -DSQLITE_ENABLE_JSON1 -DSQLITE_ENABLE_RTREE -DSQLITE_ENABLE_GEOPOLY -DSQLITE_HAVE_ZLIB  -g -O2 -MT sqlite3.lo -MD -MP -MF .deps/sqlite3.Tpo -c -o sqlite3.lo sqlite3.c\n",
            "libtool: compile:  gcc -DPACKAGE_NAME=\\\"sqlite\\\" -DPACKAGE_TARNAME=\\\"sqlite\\\" -DPACKAGE_VERSION=\\\"3.36.0\\\" \"-DPACKAGE_STRING=\\\"sqlite 3.36.0\\\"\" -DPACKAGE_BUGREPORT=\\\"http://www.sqlite.org\\\" -DPACKAGE_URL=\\\"\\\" -DPACKAGE=\\\"sqlite\\\" -DVERSION=\\\"3.36.0\\\" -DSTDC_HEADERS=1 -DHAVE_SYS_TYPES_H=1 -DHAVE_SYS_STAT_H=1 -DHAVE_STDLIB_H=1 -DHAVE_STRING_H=1 -DHAVE_MEMORY_H=1 -DHAVE_STRINGS_H=1 -DHAVE_INTTYPES_H=1 -DHAVE_STDINT_H=1 -DHAVE_UNISTD_H=1 -DHAVE_DLFCN_H=1 -DLT_OBJDIR=\\\".libs/\\\" -DHAVE_FDATASYNC=1 -DHAVE_USLEEP=1 -DHAVE_LOCALTIME_R=1 -DHAVE_GMTIME_R=1 -DHAVE_DECL_STRERROR_R=1 -DHAVE_STRERROR_R=1 -DHAVE_READLINE_READLINE_H=1 -DHAVE_READLINE=1 -DHAVE_POSIX_FALLOCATE=1 -DHAVE_ZLIB_H=1 -I. -D_REENTRANT=1 -DSQLITE_THREADSAFE=1 -DSQLITE_ENABLE_MATH_FUNCTIONS -DSQLITE_ENABLE_FTS4 -DSQLITE_ENABLE_FTS5 -DSQLITE_ENABLE_JSON1 -DSQLITE_ENABLE_RTREE -DSQLITE_ENABLE_GEOPOLY -DSQLITE_HAVE_ZLIB -g -O2 -MT sqlite3.lo -MD -MP -MF .deps/sqlite3.Tpo -c sqlite3.c  -fPIC -DPIC -o .libs/sqlite3.o\n",
            "libtool: compile:  gcc -DPACKAGE_NAME=\\\"sqlite\\\" -DPACKAGE_TARNAME=\\\"sqlite\\\" -DPACKAGE_VERSION=\\\"3.36.0\\\" \"-DPACKAGE_STRING=\\\"sqlite 3.36.0\\\"\" -DPACKAGE_BUGREPORT=\\\"http://www.sqlite.org\\\" -DPACKAGE_URL=\\\"\\\" -DPACKAGE=\\\"sqlite\\\" -DVERSION=\\\"3.36.0\\\" -DSTDC_HEADERS=1 -DHAVE_SYS_TYPES_H=1 -DHAVE_SYS_STAT_H=1 -DHAVE_STDLIB_H=1 -DHAVE_STRING_H=1 -DHAVE_MEMORY_H=1 -DHAVE_STRINGS_H=1 -DHAVE_INTTYPES_H=1 -DHAVE_STDINT_H=1 -DHAVE_UNISTD_H=1 -DHAVE_DLFCN_H=1 -DLT_OBJDIR=\\\".libs/\\\" -DHAVE_FDATASYNC=1 -DHAVE_USLEEP=1 -DHAVE_LOCALTIME_R=1 -DHAVE_GMTIME_R=1 -DHAVE_DECL_STRERROR_R=1 -DHAVE_STRERROR_R=1 -DHAVE_READLINE_READLINE_H=1 -DHAVE_READLINE=1 -DHAVE_POSIX_FALLOCATE=1 -DHAVE_ZLIB_H=1 -I. -D_REENTRANT=1 -DSQLITE_THREADSAFE=1 -DSQLITE_ENABLE_MATH_FUNCTIONS -DSQLITE_ENABLE_FTS4 -DSQLITE_ENABLE_FTS5 -DSQLITE_ENABLE_JSON1 -DSQLITE_ENABLE_RTREE -DSQLITE_ENABLE_GEOPOLY -DSQLITE_HAVE_ZLIB -g -O2 -MT sqlite3.lo -MD -MP -MF .deps/sqlite3.Tpo -c sqlite3.c -o sqlite3.o >/dev/null 2>&1\n",
            "mv -f .deps/sqlite3.Tpo .deps/sqlite3.Plo\n",
            "/bin/bash ./libtool  --tag=CC   --mode=link gcc -D_REENTRANT=1 -DSQLITE_THREADSAFE=1 -DSQLITE_ENABLE_MATH_FUNCTIONS -DSQLITE_ENABLE_FTS4 -DSQLITE_ENABLE_FTS5 -DSQLITE_ENABLE_JSON1 -DSQLITE_ENABLE_RTREE -DSQLITE_ENABLE_GEOPOLY -DSQLITE_HAVE_ZLIB  -g -O2 -no-undefined -version-info 8:6:8  -o libsqlite3.la -rpath /usr/local/lib sqlite3.lo  -lz -lm -ldl -lpthread \n",
            "libtool: link: gcc -shared  -fPIC -DPIC  .libs/sqlite3.o   -lz -lm -ldl -lpthread  -g -O2   -Wl,-soname -Wl,libsqlite3.so.0 -o .libs/libsqlite3.so.0.8.6\n",
            "libtool: link: (cd \".libs\" && rm -f \"libsqlite3.so.0\" && ln -s \"libsqlite3.so.0.8.6\" \"libsqlite3.so.0\")\n",
            "libtool: link: (cd \".libs\" && rm -f \"libsqlite3.so\" && ln -s \"libsqlite3.so.0.8.6\" \"libsqlite3.so\")\n",
            "libtool: link: ar cru .libs/libsqlite3.a  sqlite3.o\n",
            "ar: `u' modifier ignored since `D' is the default (see `U')\n",
            "libtool: link: ranlib .libs/libsqlite3.a\n",
            "libtool: link: ( cd \".libs\" && rm -f \"libsqlite3.la\" && ln -s \"../libsqlite3.la\" \"libsqlite3.la\" )\n",
            "gcc -DPACKAGE_NAME=\\\"sqlite\\\" -DPACKAGE_TARNAME=\\\"sqlite\\\" -DPACKAGE_VERSION=\\\"3.36.0\\\" -DPACKAGE_STRING=\\\"sqlite\\ 3.36.0\\\" -DPACKAGE_BUGREPORT=\\\"http://www.sqlite.org\\\" -DPACKAGE_URL=\\\"\\\" -DPACKAGE=\\\"sqlite\\\" -DVERSION=\\\"3.36.0\\\" -DSTDC_HEADERS=1 -DHAVE_SYS_TYPES_H=1 -DHAVE_SYS_STAT_H=1 -DHAVE_STDLIB_H=1 -DHAVE_STRING_H=1 -DHAVE_MEMORY_H=1 -DHAVE_STRINGS_H=1 -DHAVE_INTTYPES_H=1 -DHAVE_STDINT_H=1 -DHAVE_UNISTD_H=1 -DHAVE_DLFCN_H=1 -DLT_OBJDIR=\\\".libs/\\\" -DHAVE_FDATASYNC=1 -DHAVE_USLEEP=1 -DHAVE_LOCALTIME_R=1 -DHAVE_GMTIME_R=1 -DHAVE_DECL_STRERROR_R=1 -DHAVE_STRERROR_R=1 -DHAVE_READLINE_READLINE_H=1 -DHAVE_READLINE=1 -DHAVE_POSIX_FALLOCATE=1 -DHAVE_ZLIB_H=1 -I.    -D_REENTRANT=1 -DSQLITE_THREADSAFE=1 -DSQLITE_ENABLE_MATH_FUNCTIONS -DSQLITE_ENABLE_FTS4 -DSQLITE_ENABLE_FTS5 -DSQLITE_ENABLE_JSON1 -DSQLITE_ENABLE_RTREE -DSQLITE_ENABLE_GEOPOLY -DSQLITE_HAVE_ZLIB  -DSQLITE_ENABLE_EXPLAIN_COMMENTS -DSQLITE_ENABLE_DBPAGE_VTAB -DSQLITE_ENABLE_STMTVTAB -DSQLITE_ENABLE_DBSTAT_VTAB  -g -O2 -MT sqlite3-shell.o -MD -MP -MF .deps/sqlite3-shell.Tpo -c -o sqlite3-shell.o `test -f 'shell.c' || echo './'`shell.c\n",
            "mv -f .deps/sqlite3-shell.Tpo .deps/sqlite3-shell.Po\n",
            "gcc -DPACKAGE_NAME=\\\"sqlite\\\" -DPACKAGE_TARNAME=\\\"sqlite\\\" -DPACKAGE_VERSION=\\\"3.36.0\\\" -DPACKAGE_STRING=\\\"sqlite\\ 3.36.0\\\" -DPACKAGE_BUGREPORT=\\\"http://www.sqlite.org\\\" -DPACKAGE_URL=\\\"\\\" -DPACKAGE=\\\"sqlite\\\" -DVERSION=\\\"3.36.0\\\" -DSTDC_HEADERS=1 -DHAVE_SYS_TYPES_H=1 -DHAVE_SYS_STAT_H=1 -DHAVE_STDLIB_H=1 -DHAVE_STRING_H=1 -DHAVE_MEMORY_H=1 -DHAVE_STRINGS_H=1 -DHAVE_INTTYPES_H=1 -DHAVE_STDINT_H=1 -DHAVE_UNISTD_H=1 -DHAVE_DLFCN_H=1 -DLT_OBJDIR=\\\".libs/\\\" -DHAVE_FDATASYNC=1 -DHAVE_USLEEP=1 -DHAVE_LOCALTIME_R=1 -DHAVE_GMTIME_R=1 -DHAVE_DECL_STRERROR_R=1 -DHAVE_STRERROR_R=1 -DHAVE_READLINE_READLINE_H=1 -DHAVE_READLINE=1 -DHAVE_POSIX_FALLOCATE=1 -DHAVE_ZLIB_H=1 -I.    -D_REENTRANT=1 -DSQLITE_THREADSAFE=1 -DSQLITE_ENABLE_MATH_FUNCTIONS -DSQLITE_ENABLE_FTS4 -DSQLITE_ENABLE_FTS5 -DSQLITE_ENABLE_JSON1 -DSQLITE_ENABLE_RTREE -DSQLITE_ENABLE_GEOPOLY -DSQLITE_HAVE_ZLIB  -DSQLITE_ENABLE_EXPLAIN_COMMENTS -DSQLITE_ENABLE_DBPAGE_VTAB -DSQLITE_ENABLE_STMTVTAB -DSQLITE_ENABLE_DBSTAT_VTAB  -g -O2 -MT sqlite3-sqlite3.o -MD -MP -MF .deps/sqlite3-sqlite3.Tpo -c -o sqlite3-sqlite3.o `test -f 'sqlite3.c' || echo './'`sqlite3.c\n",
            "mv -f .deps/sqlite3-sqlite3.Tpo .deps/sqlite3-sqlite3.Po\n",
            "/bin/bash ./libtool  --tag=CC   --mode=link gcc -D_REENTRANT=1 -DSQLITE_THREADSAFE=1 -DSQLITE_ENABLE_MATH_FUNCTIONS -DSQLITE_ENABLE_FTS4 -DSQLITE_ENABLE_FTS5 -DSQLITE_ENABLE_JSON1 -DSQLITE_ENABLE_RTREE -DSQLITE_ENABLE_GEOPOLY -DSQLITE_HAVE_ZLIB  -DSQLITE_ENABLE_EXPLAIN_COMMENTS -DSQLITE_ENABLE_DBPAGE_VTAB -DSQLITE_ENABLE_STMTVTAB -DSQLITE_ENABLE_DBSTAT_VTAB  -g -O2   -o sqlite3 sqlite3-shell.o sqlite3-sqlite3.o -lreadline -ltermcap  -lz -lm -ldl -lpthread \n",
            "libtool: link: gcc -D_REENTRANT=1 -DSQLITE_THREADSAFE=1 -DSQLITE_ENABLE_MATH_FUNCTIONS -DSQLITE_ENABLE_FTS4 -DSQLITE_ENABLE_FTS5 -DSQLITE_ENABLE_JSON1 -DSQLITE_ENABLE_RTREE -DSQLITE_ENABLE_GEOPOLY -DSQLITE_HAVE_ZLIB -DSQLITE_ENABLE_EXPLAIN_COMMENTS -DSQLITE_ENABLE_DBPAGE_VTAB -DSQLITE_ENABLE_STMTVTAB -DSQLITE_ENABLE_DBSTAT_VTAB -g -O2 -o sqlite3 sqlite3-shell.o sqlite3-sqlite3.o  -lreadline -ltermcap -lz -lm -ldl -lpthread\n",
            "make[1]: Entering directory '/content/sqlite-autoconf-3360000'\n",
            " /bin/mkdir -p '/usr/local/lib'\n",
            " /bin/bash ./libtool   --mode=install /usr/bin/install -c   libsqlite3.la '/usr/local/lib'\n",
            "libtool: install: /usr/bin/install -c .libs/libsqlite3.so.0.8.6 /usr/local/lib/libsqlite3.so.0.8.6\n",
            "libtool: install: (cd /usr/local/lib && { ln -s -f libsqlite3.so.0.8.6 libsqlite3.so.0 || { rm -f libsqlite3.so.0 && ln -s libsqlite3.so.0.8.6 libsqlite3.so.0; }; })\n",
            "libtool: install: (cd /usr/local/lib && { ln -s -f libsqlite3.so.0.8.6 libsqlite3.so || { rm -f libsqlite3.so && ln -s libsqlite3.so.0.8.6 libsqlite3.so; }; })\n",
            "libtool: install: /usr/bin/install -c .libs/libsqlite3.lai /usr/local/lib/libsqlite3.la\n",
            "libtool: install: /usr/bin/install -c .libs/libsqlite3.a /usr/local/lib/libsqlite3.a\n",
            "libtool: install: chmod 644 /usr/local/lib/libsqlite3.a\n",
            "libtool: install: ranlib /usr/local/lib/libsqlite3.a\n",
            "libtool: finish: PATH=\"/usr/local/sbin:/usr/local/bin:/usr/sbin:/usr/bin:/sbin:/bin:/snap/bin:/sbin\" ldconfig -n /usr/local/lib\n",
            "----------------------------------------------------------------------\n",
            "Libraries have been installed in:\n",
            "   /usr/local/lib\n",
            "\n",
            "If you ever happen to want to link against installed libraries\n",
            "in a given directory, LIBDIR, you must either use libtool, and\n",
            "specify the full pathname of the library, or use the '-LLIBDIR'\n",
            "flag during linking and do at least one of the following:\n",
            "   - add LIBDIR to the 'LD_LIBRARY_PATH' environment variable\n",
            "     during execution\n",
            "   - add LIBDIR to the 'LD_RUN_PATH' environment variable\n",
            "     during linking\n",
            "   - use the '-Wl,-rpath -Wl,LIBDIR' linker flag\n",
            "   - have your system administrator add LIBDIR to '/etc/ld.so.conf'\n",
            "\n",
            "See any operating system documentation about shared libraries for\n",
            "more information, such as the ld(1) and ld.so(8) manual pages.\n",
            "----------------------------------------------------------------------\n",
            " /bin/mkdir -p '/usr/local/bin'\n",
            "  /bin/bash ./libtool   --mode=install /usr/bin/install -c sqlite3 '/usr/local/bin'\n",
            "libtool: install: /usr/bin/install -c sqlite3 /usr/local/bin/sqlite3\n",
            " /bin/mkdir -p '/usr/local/include'\n",
            " /usr/bin/install -c -m 644 sqlite3.h sqlite3ext.h '/usr/local/include'\n",
            " /bin/mkdir -p '/usr/local/share/man/man1'\n",
            " /usr/bin/install -c -m 644 sqlite3.1 '/usr/local/share/man/man1'\n",
            " /bin/mkdir -p '/usr/local/lib/pkgconfig'\n",
            " /usr/bin/install -c -m 644 sqlite3.pc '/usr/local/lib/pkgconfig'\n",
            "make[1]: Leaving directory '/content/sqlite-autoconf-3360000'\n"
          ],
          "name": "stdout"
        }
      ]
    },
    {
      "cell_type": "code",
      "metadata": {
        "id": "U0G2VdRe2zJO"
      },
      "source": [
        "!cp .libs/libsqlite3.so.0.8.6 /usr/lib/x86_64-linux-gnu/libsqlite3.so.0.8.6"
      ],
      "execution_count": 20,
      "outputs": []
    },
    {
      "cell_type": "markdown",
      "metadata": {
        "id": "q7D5FmSr2Ldm"
      },
      "source": [
        "Now verify your version of sqlite."
      ]
    },
    {
      "cell_type": "code",
      "metadata": {
        "id": "YglmrWOR2Jvw",
        "colab": {
          "base_uri": "https://localhost:8080/"
        },
        "outputId": "62831ded-4857-476b-a638-2a1b33bee046"
      },
      "source": [
        "!sqlite3 --version"
      ],
      "execution_count": 21,
      "outputs": [
        {
          "output_type": "stream",
          "text": [
            "3.36.0 2021-06-18 18:36:39 5c9a6c06871cb9fe42814af9c039eb6da5427a6ec28f187af7ebfb62eafa66e5\n"
          ],
          "name": "stdout"
        }
      ]
    },
    {
      "cell_type": "markdown",
      "metadata": {
        "id": "JYQL3shl3AQc"
      },
      "source": [
        "Great! Now create the database. "
      ]
    },
    {
      "cell_type": "code",
      "metadata": {
        "id": "jouDk5oo3DLu",
        "colab": {
          "base_uri": "https://localhost:8080/"
        },
        "outputId": "fe107633-5fc5-4699-cbd5-5f8677dcfc03"
      },
      "source": [
        "%cd ../ImaginaryTicketing/src"
      ],
      "execution_count": 22,
      "outputs": [
        {
          "output_type": "stream",
          "text": [
            "/content/ImaginaryTicketing/src\n"
          ],
          "name": "stdout"
        }
      ]
    },
    {
      "cell_type": "code",
      "metadata": {
        "id": "TofKtT033sSP"
      },
      "source": [
        "!sqlite3 utils/database/bot.db < utils/database/bot_schema.sql"
      ],
      "execution_count": 23,
      "outputs": []
    },
    {
      "cell_type": "markdown",
      "metadata": {
        "id": "mXjr32zP3jMI"
      },
      "source": [
        "# Running the bot\n",
        "\n",
        "Finally, lets run our bot 📈 We can run it in two different ways, directly with `python3 bot.py`, or with a proccess manager like [pm2][1], which can \n",
        "keep the bot up as a dameon. I've included a sample file, but I highly encourage you to read more on it.\n",
        "\n",
        "\n",
        "[1]: https://github.com/Unitech/pm2"
      ]
    },
    {
      "cell_type": "code",
      "metadata": {
        "id": "8k301Iu53ZU1",
        "colab": {
          "base_uri": "https://localhost:8080/"
        },
        "outputId": "260cf685-1c0d-4fd3-9370-40e0c3227cfe"
      },
      "source": [
        "!python3.9 bot.py"
      ],
      "execution_count": 24,
      "outputs": [
        {
          "output_type": "stream",
          "text": [
            "06-23 00:14:55 {bot.py:30} INFO - logging has started\n",
            "06-23 00:14:55 {client.py:257} WARNING - PyNaCl is not installed, voice will NOT be supported\n",
            "06-23 00:14:55 {bot.py:85} INFO - Loaded extension 'event'\n",
            "06-23 00:14:55 {bot.py:85} INFO - Loaded extension 'admin'\n",
            "06-23 00:14:55 {bot.py:85} INFO - Loaded extension 'smolcmds'\n",
            "06-23 00:14:55 {bot.py:85} INFO - Loaded extension 'submit'\n",
            "06-23 00:14:55 {client.py:510} INFO - logging in using static token\n",
            "06-23 00:14:57 {background.py:111} INFO - ctf-help-closed-0x6f72656f73-272\n",
            "06-23 00:14:57 {background.py:111} INFO - ctf-help-closed-0x6f72656f73-273\n",
            "06-23 00:14:57 {background.py:111} INFO - ctf-help-closed-0x6f72656f73-274\n",
            "06-23 00:14:57 {background.py:111} INFO - aaaa\n",
            "06-23 00:14:57 {background.py:111} INFO - misc-ticketing-dev-closed-4\n",
            "06-23 00:14:57 {background.py:111} INFO - ctf-help-0x6f72656f73-0\n",
            "06-23 00:14:57 {background.py:111} INFO - ctf-help-0x6f72656f73-0\n",
            "06-23 00:14:57 {background.py:111} INFO - misc-0x6f72656f73-0\n",
            "06-23 00:14:57 {background.py:111} INFO - pogu\n",
            "06-23 00:14:57 {background.py:111} INFO - ctf-help-closed-0x6f72656f73-68\n",
            "06-23 00:14:57 {background.py:111} INFO - aaa\n",
            "06-23 00:14:57 {background.py:111} INFO - misc-0x6f72656f73-closed-0\n",
            "06-23 00:14:57 {background.py:111} INFO - ctf-help-0x6f72656f73-1\n",
            "06-23 00:14:57 {background.py:111} INFO - misc-0x6f72656f73-1\n",
            "06-23 00:14:57 {background.py:111} INFO - ctf-help-closed-0x6f72656f73-0\n",
            "06-23 00:14:57 {background.py:111} INFO - ctf-help-0x6f72656f73-0\n",
            "06-23 00:14:57 {background.py:111} INFO - misc-0x6f72656f73-closed-0\n",
            "06-23 00:14:57 {bot.py:59} INFO - Logged in as TICKETING-DEV\n",
            "06-23 00:14:57 {bot.py:60} INFO - discord.py API version: 1.7.3\n",
            "06-23 00:14:57 {bot.py:61} INFO - Python version: 3.9.5\n",
            "06-23 00:14:57 {bot.py:62} INFO - Running on: Linux 5.4.104+ (posix)\n",
            "06-23 00:14:57 {bot.py:64} INFO - -------------------\n",
            "06-23 00:17:30 {bot.py:116} INFO - Executed ticket command in general by 0x6F72656F73#0530 (ID: 650187980606275589)\n",
            "{'ticket ping role': True, 'channel log category': True, 'channel log name': True, 'is admin': True}\n",
            "06-23 00:17:56 {bot.py:116} INFO - Executed check command in general by 0x6F72656F73#0530 (ID: 650187980606275589)\n",
            "06-23 00:18:00 {bot.py:116} INFO - Executed setticketmessage command in general by 0x6F72656F73#0530 (ID: 650187980606275589)\n",
            "06-23 00:18:22 {reactions.py:145} INFO - [CREATED] ctf-help-0x6f72656f73-0 by 0x6F72656F73#0530 (ID: 856282402410070029)\n",
            "06-23 00:18:24 {reactions.py:145} INFO - [CREATED] challenge-0x6f72656f73 by 0x6F72656F73#0530 (ID: 856282402410070029)\n",
            "06-23 00:18:26 {reactions.py:145} INFO - [CREATED] misc-0x6f72656f73-0 by 0x6F72656F73#0530 (ID: 856282402410070029)\n",
            "06-23 00:18:38 {admin.py:37} WARNING - 0x6F72656F73#0530 is closing the bot\n",
            "06-23 00:18:38 {admin.py:39} WARNING - successfully closed bot\n",
            "06-23 00:18:38 {bot.py:116} INFO - Executed shutdown command in general by 0x6F72656F73#0530 (ID: 650187980606275589)\n",
            "06-23 00:18:38 {client.py:718} INFO - Cleaning up tasks.\n",
            "06-23 00:18:38 {client.py:71} INFO - Cleaning up after 2 tasks.\n",
            "06-23 00:18:38 {client.py:76} INFO - All tasks finished cancelling.\n",
            "06-23 00:18:38 {client.py:94} INFO - Closing the event loop.\n"
          ],
          "name": "stdout"
        }
      ]
    },
    {
      "cell_type": "markdown",
      "metadata": {
        "id": "cWVo4umo5x5r"
      },
      "source": [
        "## PM2\n",
        "\n",
        "we can invoke pm2 directly, however it can get messy easily, so using an ecosystem file is generally easier. After starting, you can refer to a process with the file or its pid.\n",
        "\n",
        "- `pm2 start process.json`\n",
        "- `pm2 status`\n",
        "- `pm2 logs process.json` | `pm2 logs 0`\n",
        "- `pm2 restart process.json` | `pm2 restart 0`\n",
        "- `pm2 stop process.json` | `pm2 stop 0`\n",
        "- `pm2 delete process.json` | `pm2 delete 0`\n",
        "\n",
        "These are only a few commands from pm2, go checkout [pm2.io](https://pm2.io/) for more!"
      ]
    },
    {
      "cell_type": "code",
      "metadata": {
        "id": "jGbzVGMEJVcb",
        "colab": {
          "base_uri": "https://localhost:8080/"
        },
        "outputId": "221bbda4-d1df-4ecd-ead2-45741a0eb719"
      },
      "source": [
        "%cd ../"
      ],
      "execution_count": 25,
      "outputs": [
        {
          "output_type": "stream",
          "text": [
            "/content/ImaginaryTicketing\n"
          ],
          "name": "stdout"
        }
      ]
    },
    {
      "cell_type": "code",
      "metadata": {
        "id": "0PqE-3435OhS",
        "colab": {
          "base_uri": "https://localhost:8080/"
        },
        "outputId": "a31238e7-14e9-418a-f42b-e97dae1a72b9"
      },
      "source": [
        "!pm2 start process.json"
      ],
      "execution_count": 26,
      "outputs": [
        {
          "output_type": "stream",
          "text": [
            "\n",
            "                        -------------\n",
            "\n",
            "__/\\\\\\\\\\\\\\\\\\\\\\\\\\____/\\\\\\\\____________/\\\\\\\\____/\\\\\\\\\\\\\\\\\\_____\n",
            " _\\/\\\\\\/////////\\\\\\_\\/\\\\\\\\\\\\________/\\\\\\\\\\\\__/\\\\\\///////\\\\\\___\n",
            "  _\\/\\\\\\_______\\/\\\\\\_\\/\\\\\\//\\\\\\____/\\\\\\//\\\\\\_\\///______\\//\\\\\\__\n",
            "   _\\/\\\\\\\\\\\\\\\\\\\\\\\\\\/__\\/\\\\\\\\///\\\\\\/\\\\\\/_\\/\\\\\\___________/\\\\\\/___\n",
            "    _\\/\\\\\\/////////____\\/\\\\\\__\\///\\\\\\/___\\/\\\\\\________/\\\\\\//_____\n",
            "     _\\/\\\\\\_____________\\/\\\\\\____\\///_____\\/\\\\\\_____/\\\\\\//________\n",
            "      _\\/\\\\\\_____________\\/\\\\\\_____________\\/\\\\\\___/\\\\\\/___________\n",
            "       _\\/\\\\\\_____________\\/\\\\\\_____________\\/\\\\\\__/\\\\\\\\\\\\\\\\\\\\\\\\\\\\\\_\n",
            "        _\\///______________\\///______________\\///__\\///////////////__\n",
            "\n",
            "\n",
            "                          Runtime Edition\n",
            "\n",
            "        PM2 is a Production Process Manager for Node.js applications\n",
            "                     with a built-in Load Balancer.\n",
            "\n",
            "                Start and Daemonize any application:\n",
            "                $ pm2 start app.js\n",
            "\n",
            "                Load Balance 4 instances of api.js:\n",
            "                $ pm2 start api.js -i 4\n",
            "\n",
            "                Monitor in production:\n",
            "                $ pm2 monitor\n",
            "\n",
            "                Make pm2 auto-boot at server restart:\n",
            "                $ pm2 startup\n",
            "\n",
            "                To go further checkout:\n",
            "                http://pm2.io/\n",
            "\n",
            "\n",
            "                        -------------\n",
            "\n",
            "\u001b[32m[PM2] \u001b[39mSpawning PM2 daemon with pm2_home=/root/.pm2\n",
            "\u001b[32m[PM2] \u001b[39mPM2 Successfully daemonized\n",
            "\u001b[33m[PM2][WARN] \u001b[39mApplications ImaginaryTicketing not running, starting...\n",
            "\u001b[33m[PM2][WARN] \u001b[39mApp ImaginaryTicketing has option 'wait_ready' set, waiting for app to be ready...\n",
            "\u001b[32m[PM2] \u001b[39mApp [ImaginaryTicketing] launched (1 instances)\n",
            "\u001b[90m┌─────┬───────────────────────┬─────────────┬─────────┬─────────┬──────────┬────────┬──────┬───────────┬──────────┬──────────┬──────────┬──────────┐\u001b[39m\n",
            "\u001b[90m│\u001b[39m\u001b[1m\u001b[36m id  \u001b[39m\u001b[22m\u001b[90m│\u001b[39m\u001b[1m\u001b[36m name                  \u001b[39m\u001b[22m\u001b[90m│\u001b[39m\u001b[1m\u001b[36m namespace   \u001b[39m\u001b[22m\u001b[90m│\u001b[39m\u001b[1m\u001b[36m version \u001b[39m\u001b[22m\u001b[90m│\u001b[39m\u001b[1m\u001b[36m mode    \u001b[39m\u001b[22m\u001b[90m│\u001b[39m\u001b[1m\u001b[36m pid      \u001b[39m\u001b[22m\u001b[90m│\u001b[39m\u001b[1m\u001b[36m uptime \u001b[39m\u001b[22m\u001b[90m│\u001b[39m\u001b[1m\u001b[36m ↺    \u001b[39m\u001b[22m\u001b[90m│\u001b[39m\u001b[1m\u001b[36m status    \u001b[39m\u001b[22m\u001b[90m│\u001b[39m\u001b[1m\u001b[36m cpu      \u001b[39m\u001b[22m\u001b[90m│\u001b[39m\u001b[1m\u001b[36m mem      \u001b[39m\u001b[22m\u001b[90m│\u001b[39m\u001b[1m\u001b[36m user     \u001b[39m\u001b[22m\u001b[90m│\u001b[39m\u001b[1m\u001b[36m watching \u001b[39m\u001b[22m\u001b[90m│\u001b[39m\n",
            "\u001b[90m├─────┼───────────────────────┼─────────────┼─────────┼─────────┼──────────┼────────┼──────┼───────────┼──────────┼──────────┼──────────┼──────────┤\u001b[39m\n",
            "\u001b[90m│\u001b[39m\u001b[1m\u001b[36m \u001b[1m\u001b[36m0\u001b[39m\u001b[36m\u001b[22m\u001b[1m   \u001b[39m\u001b[22m\u001b[90m│\u001b[39m ImaginaryTicketing    \u001b[90m│\u001b[39m default     \u001b[90m│\u001b[39m N/A     \u001b[90m│\u001b[39m \u001b[7m\u001b[1mfork\u001b[22m\u001b[27m    \u001b[90m│\u001b[39m 5570     \u001b[90m│\u001b[39m 3s     \u001b[90m│\u001b[39m 0    \u001b[90m│\u001b[39m \u001b[32m\u001b[1monline\u001b[22m\u001b[39m    \u001b[90m│\u001b[39m 0%       \u001b[90m│\u001b[39m 54.8mb   \u001b[90m│\u001b[39m \u001b[1mroot\u001b[22m     \u001b[90m│\u001b[39m \u001b[90mdisabled\u001b[39m \u001b[90m│\u001b[39m\n",
            "\u001b[90m└─────┴───────────────────────┴─────────────┴─────────┴─────────┴──────────┴────────┴──────┴───────────┴──────────┴──────────┴──────────┴──────────┘\u001b[39m\n"
          ],
          "name": "stdout"
        }
      ]
    },
    {
      "cell_type": "code",
      "metadata": {
        "id": "N0N3LyZN7mSc",
        "colab": {
          "base_uri": "https://localhost:8080/"
        },
        "outputId": "4f067557-ada1-4224-c6c6-c080a2ed274b"
      },
      "source": [
        "!pm2 logs 0"
      ],
      "execution_count": 27,
      "outputs": [
        {
          "output_type": "stream",
          "text": [
            "\u001b[1m\u001b[90m[TAILING] Tailing last 15 lines for [0] process (change the value with --lines option)\u001b[39m\u001b[22m\n",
            "\u001b[90m/root/.pm2/logs/ImaginaryTicketing-error-0.log last 15 lines:\u001b[39m\n",
            "\u001b[90m/root/.pm2/logs/ImaginaryTicketing-out-0.log last 15 lines:\u001b[39m\n",
            "\u001b[32m0|Imaginar | \u001b[39m06-23 00:19:14 {background.py:111} INFO - ctf-help-closed-0x6f72656f73-68\n",
            "\u001b[32m0|Imaginar | \u001b[39m06-23 00:19:14 {background.py:111} INFO - aaa\n",
            "\u001b[32m0|Imaginar | \u001b[39m06-23 00:19:14 {background.py:111} INFO - misc-0x6f72656f73-closed-0\n",
            "\u001b[32m0|Imaginar | \u001b[39m06-23 00:19:14 {background.py:111} INFO - ctf-help-0x6f72656f73-1\n",
            "\u001b[32m0|Imaginar | \u001b[39m06-23 00:19:14 {background.py:111} INFO - misc-0x6f72656f73-1\n",
            "\u001b[32m0|Imaginar | \u001b[39m06-23 00:19:14 {background.py:111} INFO - ctf-help-closed-0x6f72656f73-0\n",
            "\u001b[32m0|Imaginar | \u001b[39m06-23 00:19:14 {background.py:111} INFO - ctf-help-0x6f72656f73-0\n",
            "\u001b[32m0|Imaginar | \u001b[39m06-23 00:19:14 {background.py:111} INFO - misc-0x6f72656f73-closed-0\n",
            "\u001b[32m0|Imaginar | \u001b[39m06-23 00:19:14 {background.py:111} INFO - ctf-help-0x6f72656f73-0\n",
            "\u001b[32m0|Imaginar | \u001b[39m06-23 00:19:14 {bot.py:59} INFO - Logged in as TICKETING-DEV\n",
            "\u001b[32m0|Imaginar | \u001b[39m06-23 00:19:14 {bot.py:60} INFO - discord.py API version: 1.7.3\n",
            "\u001b[32m0|Imaginar | \u001b[39m06-23 00:19:14 {bot.py:61} INFO - Python version: 3.9.5\n",
            "\u001b[32m0|Imaginar | \u001b[39m06-23 00:19:14 {bot.py:62} INFO - Running on: Linux 5.4.104+ (posix)\n",
            "\u001b[32m0|Imaginar | \u001b[39m06-23 00:19:14 {bot.py:64} INFO - -------------------\n",
            "\u001b[32m0|Imaginar | \u001b[39m06-23 00:19:15 {background.py:111} INFO - misc-0x6f72656f73-0\n",
            "\n",
            "\u001b[32m0|ImaginaryTicketing  | \u001b[39m06-23 00:19:30 {reactions.py:343} INFO - TICKETING-DEV\n",
            "\u001b[32m0|ImaginaryTicketing  | \u001b[39m06-23 00:19:30 {reactions.py:343} INFO - 0x6F72656F73\n",
            "\u001b[32m0|ImaginaryTicketing  | \u001b[39m06-23 00:19:32 {reactions.py:372} INFO - [CLOSED] ctf-help-closed-0x6f72656f73-0 by 0x6F72656F73#0530 (ID: 857051917259767858)\n",
            "\u001b[32m0|ImaginaryTicketing  | \u001b[39m06-23 00:19:32 {bot.py:116} INFO - Executed close command in ctf-help-closed-0x6f72656f73-0 by 0x6F72656F73#0530 (ID: 650187980606275589)\n",
            "\u001b[32m0|ImaginaryTicketing  | \u001b[39m06-23 00:19:41 {reactions.py:467} INFO - [DELETED] ctf-help-closed-0x6f72656f73-0 by 0x6F72656F73#0530 (ID: 857051917259767858)\n",
            "\u001b[32m0|ImaginaryTicketing  | \u001b[39m06-23 00:19:41 {bot.py:116} INFO - Executed delete command in ctf-help-closed-0x6f72656f73-0 by 0x6F72656F73#0530 (ID: 650187980606275589)\n",
            "^C\n"
          ],
          "name": "stdout"
        }
      ]
    },
    {
      "cell_type": "code",
      "metadata": {
        "id": "iMwsA7Ak7trH",
        "colab": {
          "base_uri": "https://localhost:8080/"
        },
        "outputId": "b9b36257-c19d-4a4f-ef51-5235ee8d48e9"
      },
      "source": [
        "!pm2 delete 0"
      ],
      "execution_count": 28,
      "outputs": [
        {
          "output_type": "stream",
          "text": [
            "\u001b[32m[PM2] \u001b[39mApplying action deleteProcessId on app [0](ids: [ '0' ])\n",
            "\u001b[32m[PM2] \u001b[39m[ImaginaryTicketing](0) ✓\n",
            "\u001b[90m┌─────┬───────────┬─────────────┬─────────┬─────────┬──────────┬────────┬──────┬───────────┬──────────┬──────────┬──────────┬──────────┐\u001b[39m\n",
            "\u001b[90m│\u001b[39m\u001b[1m\u001b[36m id  \u001b[39m\u001b[22m\u001b[90m│\u001b[39m\u001b[1m\u001b[36m name      \u001b[39m\u001b[22m\u001b[90m│\u001b[39m\u001b[1m\u001b[36m namespace   \u001b[39m\u001b[22m\u001b[90m│\u001b[39m\u001b[1m\u001b[36m version \u001b[39m\u001b[22m\u001b[90m│\u001b[39m\u001b[1m\u001b[36m mode    \u001b[39m\u001b[22m\u001b[90m│\u001b[39m\u001b[1m\u001b[36m pid      \u001b[39m\u001b[22m\u001b[90m│\u001b[39m\u001b[1m\u001b[36m uptime \u001b[39m\u001b[22m\u001b[90m│\u001b[39m\u001b[1m\u001b[36m ↺    \u001b[39m\u001b[22m\u001b[90m│\u001b[39m\u001b[1m\u001b[36m status    \u001b[39m\u001b[22m\u001b[90m│\u001b[39m\u001b[1m\u001b[36m cpu      \u001b[39m\u001b[22m\u001b[90m│\u001b[39m\u001b[1m\u001b[36m mem      \u001b[39m\u001b[22m\u001b[90m│\u001b[39m\u001b[1m\u001b[36m user     \u001b[39m\u001b[22m\u001b[90m│\u001b[39m\u001b[1m\u001b[36m watching \u001b[39m\u001b[22m\u001b[90m│\u001b[39m\n",
            "\u001b[90m└─────┴───────────┴─────────────┴─────────┴─────────┴──────────┴────────┴──────┴───────────┴──────────┴──────────┴──────────┴──────────┘\u001b[39m\n"
          ],
          "name": "stdout"
        }
      ]
    },
    {
      "cell_type": "markdown",
      "metadata": {
        "id": "Hun5su7m7yam"
      },
      "source": [
        "# Transcript application with flask\n",
        "\n",
        "Note you can run `python3 transcript_app.py` as shown below, but using a  production WSGI server is [recommended in production][1]. I find [gunicorn][2] the easiest to use.\n",
        "\n",
        "[1]: https://flask.palletsprojects.com/en/2.0.x/deploying/\n",
        "[2]: https://github.com/benoitc/gunicorn"
      ]
    },
    {
      "cell_type": "markdown",
      "metadata": {
        "id": "7eqTUYhwdy4O"
      },
      "source": [
        "Now with gunicorn:\n",
        "\n",
        "\n",
        "basic: `gunicorn3 --chdir src/ transcript_app:app --preload -b 0.0.0.0:1337`\n",
        "\n",
        "with logs: `gunicorn3 --chdir src/ transcript_app:app --preload -b 0.0.0.0:1337 --access-logfile accesslog.log --error-log errorlog.log`\n",
        "\n",
        "with a daemon and workers: `gunicorn3 --chdir src/ transcript_app:app --preload -b 0.0.0.0:1337 --access-logfile accesslog.log --error-log errorlog.log -D --workers 5 -p app.pid --worker-tmp-dir /dev/shm`\n",
        "\n",
        "with [ssl][1]: `sudo gunicorn3 --chdir src/ transcript_app:app --preload -b 0.0.0.0:1337 --access-logfile accesslog.log --error-log errorlog.log -D --workers 5 -p app.pid --worker-tmp-dir /dev/shm --certfile=/etc/letsencrypt/live/oreos.imaginaryctf.org/cert.pem --keyfile=/etc/letsencrypt/live/oreos.imaginaryctf.org/privkey.pem`\n",
        "\n",
        "[1]: https://letsencrypt.org/getting-started/"
      ]
    },
    {
      "cell_type": "code",
      "metadata": {
        "id": "LEKq49vnfCfq",
        "colab": {
          "base_uri": "https://localhost:8080/"
        },
        "outputId": "3c87142a-5967-46c7-d7f7-7f091aab867a"
      },
      "source": [
        "!python3.9 -m pip install --upgrade gunicorn"
      ],
      "execution_count": 29,
      "outputs": [
        {
          "output_type": "stream",
          "text": [
            "Requirement already satisfied: gunicorn in /usr/lib/python3/dist-packages (19.7.1)\n",
            "Collecting gunicorn\n",
            "  Downloading gunicorn-20.1.0-py3-none-any.whl (79 kB)\n",
            "\u001b[K     |████████████████████████████████| 79 kB 2.9 MB/s \n",
            "\u001b[?25hRequirement already satisfied: setuptools>=3.0 in /usr/local/lib/python3.9/dist-packages (from gunicorn) (57.0.0)\n",
            "Installing collected packages: gunicorn\n",
            "  Attempting uninstall: gunicorn\n",
            "    Found existing installation: gunicorn 19.7.1\n",
            "    Uninstalling gunicorn-19.7.1:\n",
            "      Successfully uninstalled gunicorn-19.7.1\n",
            "Successfully installed gunicorn-20.1.0\n",
            "\u001b[33mWARNING: Running pip as root will break packages and permissions. You should install packages reliably by using venv: https://pip.pypa.io/warnings/venv\u001b[0m\n"
          ],
          "name": "stdout"
        }
      ]
    },
    {
      "cell_type": "code",
      "metadata": {
        "id": "oacKNp0ievvs",
        "colab": {
          "base_uri": "https://localhost:8080/"
        },
        "outputId": "b4ca29d6-84a8-4553-fee7-8dc6627b4756"
      },
      "source": [
        "!gunicorn --chdir src/ transcript_app:app --preload -b 0.0.0.0:1337 "
      ],
      "execution_count": 30,
      "outputs": [
        {
          "output_type": "stream",
          "text": [
            "[2021-06-23 00:21:05 +0000] [5630] [INFO] Starting gunicorn 20.1.0\n",
            "[2021-06-23 00:21:05 +0000] [5630] [INFO] Listening at: http://0.0.0.0:1337 (5630)\n",
            "[2021-06-23 00:21:05 +0000] [5630] [INFO] Using worker: sync\n",
            "[2021-06-23 00:21:05 +0000] [5632] [INFO] Booting worker with pid: 5632\n",
            "[2021-06-23 00:21:08 +0000] [5630] [INFO] Handling signal: int\n",
            "[2021-06-23 00:21:08 +0000] [5630] [INFO] Shutting down: Master\n"
          ],
          "name": "stdout"
        }
      ]
    },
    {
      "cell_type": "code",
      "metadata": {
        "id": "VNM62zhygWyW"
      },
      "source": [
        "!gunicorn --chdir src/ transcript_app:app --preload -b 0.0.0.0:1337 --access-logfile accesslog.log --error-log errorlog.log -D --workers 5 -p app.pid --worker-tmp-dir /dev/shm"
      ],
      "execution_count": 31,
      "outputs": []
    },
    {
      "cell_type": "code",
      "metadata": {
        "id": "PM5MMsr7h1eQ",
        "colab": {
          "base_uri": "https://localhost:8080/"
        },
        "outputId": "ea1f0c62-e85c-4f40-8346-80e87c235392"
      },
      "source": [
        "!ps aux|grep gunicorn"
      ],
      "execution_count": 32,
      "outputs": [
        {
          "output_type": "stream",
          "text": [
            "root        5634  0.0  0.0      0     0 ?        Zs   00:21   0:00 [gunicorn] <defunct>\n",
            "root        5635  3.0  0.2 111176 32904 ?        S    00:21   0:00 /usr/local/bin/python3.9 /usr/local/bin/gunicorn --chdir src/ transcript_app:app --preload -b 0.0.0.0:1337 --access-logfile accesslog.log --error-log errorlog.log -D --workers 5 -p app.pid --worker-tmp-dir /dev/shm\n",
            "root        5637  0.0  0.2 111176 29648 ?        S    00:21   0:00 /usr/local/bin/python3.9 /usr/local/bin/gunicorn --chdir src/ transcript_app:app --preload -b 0.0.0.0:1337 --access-logfile accesslog.log --error-log errorlog.log -D --workers 5 -p app.pid --worker-tmp-dir /dev/shm\n",
            "root        5638  0.0  0.2 111176 29584 ?        S    00:21   0:00 /usr/local/bin/python3.9 /usr/local/bin/gunicorn --chdir src/ transcript_app:app --preload -b 0.0.0.0:1337 --access-logfile accesslog.log --error-log errorlog.log -D --workers 5 -p app.pid --worker-tmp-dir /dev/shm\n",
            "root        5639  0.0  0.2 111176 29524 ?        S    00:21   0:00 /usr/local/bin/python3.9 /usr/local/bin/gunicorn --chdir src/ transcript_app:app --preload -b 0.0.0.0:1337 --access-logfile accesslog.log --error-log errorlog.log -D --workers 5 -p app.pid --worker-tmp-dir /dev/shm\n",
            "root        5640  0.0  0.2 111176 29584 ?        S    00:21   0:00 /usr/local/bin/python3.9 /usr/local/bin/gunicorn --chdir src/ transcript_app:app --preload -b 0.0.0.0:1337 --access-logfile accesslog.log --error-log errorlog.log -D --workers 5 -p app.pid --worker-tmp-dir /dev/shm\n",
            "root        5641  0.0  0.2 111176 29584 ?        S    00:21   0:00 /usr/local/bin/python3.9 /usr/local/bin/gunicorn --chdir src/ transcript_app:app --preload -b 0.0.0.0:1337 --access-logfile accesslog.log --error-log errorlog.log -D --workers 5 -p app.pid --worker-tmp-dir /dev/shm\n",
            "root        5644  0.0  0.0  39200  6608 ?        S    00:21   0:00 /bin/bash -c ps aux|grep gunicorn\n",
            "root        5646  0.0  0.0  38576  5664 ?        S    00:21   0:00 grep gunicorn\n"
          ],
          "name": "stdout"
        }
      ]
    },
    {
      "cell_type": "code",
      "metadata": {
        "id": "2uKdLDtAlPg4",
        "colab": {
          "base_uri": "https://localhost:8080/"
        },
        "outputId": "576dc14e-2bd2-432a-e55e-88812831120e"
      },
      "source": [
        "!ps aux| grep gunicorn| awk '{ print $2 }'| sudo xargs kill -9"
      ],
      "execution_count": 33,
      "outputs": [
        {
          "output_type": "stream",
          "text": [
            "kill: (5649): No such process\n",
            "^C\n"
          ],
          "name": "stdout"
        }
      ]
    }
  ]
}