{
  "nbformat": 4,
  "nbformat_minor": 0,
  "metadata": {
    "colab": {
      "name": "ImaginaryTicketing Example.ipynb",
      "provenance": []
    },
    "kernelspec": {
      "name": "python3",
      "display_name": "Python 3"
    },
    "language_info": {
      "name": "python"
    }
  },
  "cells": [
    {
      "cell_type": "markdown",
      "metadata": {
        "id": "Jkg_GBL3nsMf"
      },
      "source": [
        "### Requirements:\n",
        "- [registered discord bot][1]\n",
        "- Administrator perms\n",
        "\n",
        "**note:** to quickly see the bot in motion, skip to [the fifth cell](#cell-5)\n",
        "\n",
        "[1]: https://discord.com/developers/applications"
      ]
    },
    {
      "cell_type": "markdown",
      "metadata": {
        "id": "9kVs1oe9nvaQ"
      },
      "source": [
        "# Getting started\n",
        "First step, download the code 😎"
      ]
    },
    {
      "cell_type": "code",
      "metadata": {
        "colab": {
          "base_uri": "https://localhost:8080/"
        },
        "id": "nfyGzqrMnm5o",
        "outputId": "0232744d-b7c5-40a8-e117-de476eaa253f"
      },
      "source": [
        "!git clone https://github.com/0x6F72656F73/ImaginaryTicketing"
      ],
      "execution_count": null,
      "outputs": [
        {
          "output_type": "stream",
          "text": [
            "Cloning into 'ImaginaryTicketing'...\n",
            "remote: Enumerating objects: 57, done.\u001b[K\n",
            "remote: Counting objects: 100% (57/57), done.\u001b[K\n",
            "remote: Compressing objects: 100% (38/38), done.\u001b[K\n",
            "remote: Total 57 (delta 18), reused 50 (delta 13), pack-reused 0\u001b[K\n",
            "Unpacking objects: 100% (57/57), done.\n"
          ],
          "name": "stdout"
        }
      ]
    },
    {
      "cell_type": "code",
      "metadata": {
        "colab": {
          "base_uri": "https://localhost:8080/"
        },
        "id": "W4Z7WNn5nymm",
        "outputId": "992b6b20-7b8a-4e10-8623-f13bb38fbd9e"
      },
      "source": [
        "%cd ImaginaryTicketing/"
      ],
      "execution_count": null,
      "outputs": [
        {
          "output_type": "stream",
          "text": [
            "/content/ImaginaryTicketing\n"
          ],
          "name": "stdout"
        }
      ]
    },
    {
      "cell_type": "markdown",
      "metadata": {
        "id": "VqMLpLMBn26j"
      },
      "source": [
        "# Installing requirements\n",
        "Now install the requirements for the bot with pip\n"
      ]
    },
    {
      "cell_type": "code",
      "metadata": {
        "colab": {
          "base_uri": "https://localhost:8080/"
        },
        "id": "Fwz--qlzn1xf",
        "outputId": "a9636059-d852-4d0b-a777-849f4766e2f7"
      },
      "source": [
        "!pip install -r requirements.txt "
      ],
      "execution_count": null,
      "outputs": [
        {
          "output_type": "stream",
          "text": [
            "Collecting chat_exporter\n",
            "  Downloading https://files.pythonhosted.org/packages/8b/c1/5721eebd23941087efe37ca1891cc51598addff74d12ad2af5dcc8edf2b8/chat_exporter-1.4.1-py3-none-any.whl\n",
            "Collecting discord\n",
            "  Downloading https://files.pythonhosted.org/packages/aa/76/75382e581c7932c177568e985a6967a305b1788f51936e819010e5538ef4/discord-1.0.1-py3-none-any.whl\n",
            "Requirement already satisfied: humanize in /usr/local/lib/python3.7/dist-packages (from -r requirements.txt (line 3)) (0.5.1)\n",
            "Collecting python-dotenv\n",
            "  Downloading https://files.pythonhosted.org/packages/5c/0c/9c5d5dd254e9e7a32d34777cc6fd33cbeb174744061458b88470aecbd1d6/python_dotenv-0.18.0-py2.py3-none-any.whl\n",
            "Collecting discord-pretty-help\n",
            "  Downloading https://files.pythonhosted.org/packages/45/63/822f76e3e301836cc691c27ed004d39aad2ac22c2233cc3c2c2e3ceb202e/discord_pretty_help-1.3.1-py3-none-any.whl\n",
            "Collecting discord-ext-forms\n",
            "  Downloading https://files.pythonhosted.org/packages/c7/f3/8c065bbba543fc7bc4e283b226e2d280786bb68fc4725be271c782fc3f25/discord_ext_forms-3.0.0-py3-none-any.whl\n",
            "Collecting uvloop\n",
            "\u001b[?25l  Downloading https://files.pythonhosted.org/packages/87/05/805df4850d9659efd69d00076269ae6adcb0e151d1922cff822ead2c432a/uvloop-0.15.2-cp37-cp37m-manylinux2010_x86_64.whl (3.8MB)\n",
            "\u001b[K     |████████████████████████████████| 3.8MB 9.7MB/s \n",
            "\u001b[?25hCollecting emoji\n",
            "\u001b[?25l  Downloading https://files.pythonhosted.org/packages/24/fa/b3368f41b95a286f8d300e323449ab4e86b85334c2e0b477e94422b8ed0f/emoji-1.2.0-py3-none-any.whl (131kB)\n",
            "\u001b[K     |████████████████████████████████| 133kB 43.1MB/s \n",
            "\u001b[?25hRequirement already satisfied: Pillow in /usr/local/lib/python3.7/dist-packages (from chat_exporter->-r requirements.txt (line 1)) (7.1.2)\n",
            "Collecting discord.py\n",
            "\u001b[?25l  Downloading https://files.pythonhosted.org/packages/62/38/79f7de6d65514b8c98c9439dc2950796e6bbfbb333e21f14c18fd29bea45/discord.py-1.7.3-py3-none-any.whl (786kB)\n",
            "\u001b[K     |████████████████████████████████| 788kB 37.7MB/s \n",
            "\u001b[?25hRequirement already satisfied: requests in /usr/local/lib/python3.7/dist-packages (from chat_exporter->-r requirements.txt (line 1)) (2.23.0)\n",
            "Requirement already satisfied: pytz in /usr/local/lib/python3.7/dist-packages (from chat_exporter->-r requirements.txt (line 1)) (2018.9)\n",
            "Collecting grapheme\n",
            "\u001b[?25l  Downloading https://files.pythonhosted.org/packages/ce/e7/bbaab0d2a33e07c8278910c1d0d8d4f3781293dfbc70b5c38197159046bf/grapheme-0.6.0.tar.gz (207kB)\n",
            "\u001b[K     |████████████████████████████████| 215kB 47.5MB/s \n",
            "\u001b[?25hCollecting aiohttp<3.8.0,>=3.6.0\n",
            "\u001b[?25l  Downloading https://files.pythonhosted.org/packages/88/c0/5890b4c8b04a79b7360e8fe4490feb0bb3ab179743f199f0e6220cebd568/aiohttp-3.7.4.post0-cp37-cp37m-manylinux2014_x86_64.whl (1.3MB)\n",
            "\u001b[K     |████████████████████████████████| 1.3MB 33.0MB/s \n",
            "\u001b[?25hRequirement already satisfied: certifi>=2017.4.17 in /usr/local/lib/python3.7/dist-packages (from requests->chat_exporter->-r requirements.txt (line 1)) (2021.5.30)\n",
            "Requirement already satisfied: urllib3!=1.25.0,!=1.25.1,<1.26,>=1.21.1 in /usr/local/lib/python3.7/dist-packages (from requests->chat_exporter->-r requirements.txt (line 1)) (1.24.3)\n",
            "Requirement already satisfied: chardet<4,>=3.0.2 in /usr/local/lib/python3.7/dist-packages (from requests->chat_exporter->-r requirements.txt (line 1)) (3.0.4)\n",
            "Requirement already satisfied: idna<3,>=2.5 in /usr/local/lib/python3.7/dist-packages (from requests->chat_exporter->-r requirements.txt (line 1)) (2.10)\n",
            "Requirement already satisfied: attrs>=17.3.0 in /usr/local/lib/python3.7/dist-packages (from aiohttp<3.8.0,>=3.6.0->discord.py->chat_exporter->-r requirements.txt (line 1)) (21.2.0)\n",
            "Collecting multidict<7.0,>=4.5\n",
            "\u001b[?25l  Downloading https://files.pythonhosted.org/packages/7c/a6/4123b8165acbe773d1a8dc8e3f0d1edea16d29f7de018eda769abb56bd30/multidict-5.1.0-cp37-cp37m-manylinux2014_x86_64.whl (142kB)\n",
            "\u001b[K     |████████████████████████████████| 143kB 41.9MB/s \n",
            "\u001b[?25hCollecting async-timeout<4.0,>=3.0\n",
            "  Downloading https://files.pythonhosted.org/packages/e1/1e/5a4441be21b0726c4464f3f23c8b19628372f606755a9d2e46c187e65ec4/async_timeout-3.0.1-py3-none-any.whl\n",
            "Collecting yarl<2.0,>=1.0\n",
            "\u001b[?25l  Downloading https://files.pythonhosted.org/packages/f1/62/046834c5fc998c88ab2ef722f5d42122230a632212c8afa76418324f53ff/yarl-1.6.3-cp37-cp37m-manylinux2014_x86_64.whl (294kB)\n",
            "\u001b[K     |████████████████████████████████| 296kB 41.9MB/s \n",
            "\u001b[?25hRequirement already satisfied: typing-extensions>=3.6.5 in /usr/local/lib/python3.7/dist-packages (from aiohttp<3.8.0,>=3.6.0->discord.py->chat_exporter->-r requirements.txt (line 1)) (3.7.4.3)\n",
            "Building wheels for collected packages: grapheme\n",
            "  Building wheel for grapheme (setup.py) ... \u001b[?25l\u001b[?25hdone\n",
            "  Created wheel for grapheme: filename=grapheme-0.6.0-cp37-none-any.whl size=210097 sha256=cb26a8b5bf15c3e33394d6b05589aaff2e97e1e9a6c37709ac6ce13af1ad4c46\n",
            "  Stored in directory: /root/.cache/pip/wheels/1e/f7/2c/341b06952dda321b8550d9ebd573dff4c0640fa710d9f23ecd\n",
            "Successfully built grapheme\n",
            "Installing collected packages: emoji, multidict, async-timeout, yarl, aiohttp, discord.py, grapheme, chat-exporter, discord, python-dotenv, discord-pretty-help, discord-ext-forms, uvloop\n",
            "Successfully installed aiohttp-3.7.4.post0 async-timeout-3.0.1 chat-exporter-1.4.1 discord-1.0.1 discord-ext-forms-3.0.0 discord-pretty-help-1.3.1 discord.py-1.7.3 emoji-1.2.0 grapheme-0.6.0 multidict-5.1.0 python-dotenv-0.18.0 uvloop-0.15.2 yarl-1.6.3\n"
          ],
          "name": "stdout"
        }
      ]
    },
    {
      "cell_type": "code",
      "metadata": {
        "colab": {
          "base_uri": "https://localhost:8080/"
        },
        "id": "tG18M3MNoCW6",
        "outputId": "20dbdd81-5f66-4216-c61a-8160f13b34d6"
      },
      "source": [
        "%cd src/"
      ],
      "execution_count": null,
      "outputs": [
        {
          "output_type": "stream",
          "text": [
            "/content/ImaginaryTicketing/src\n"
          ],
          "name": "stdout"
        }
      ]
    },
    {
      "cell_type": "markdown",
      "metadata": {
        "id": "_b9UR7SsoA1a"
      },
      "source": [
        "Now put your bot token and prefix in a .env file.\n",
        "<a name=\"cell-5\"></a>\n"
      ]
    },
    {
      "cell_type": "code",
      "metadata": {
        "colab": {
          "base_uri": "https://localhost:8080/"
        },
        "id": "d2maGva_oHFi",
        "outputId": "f38d3ae8-110d-4e57-f450-be440faaa7b7"
      },
      "source": [
        "!echo \"DISCORD_TOKEN=ODM5NjM0MTAxNDgwMzI1MjEw.YJMgMQ.rx8XqmlnOjNUfJ3DaXykCoa1fM8\" > .env;\n",
        "!echo \"BOT_PREFIX = ['$']\" >> .env; cat .env"
      ],
      "execution_count": null,
      "outputs": [
        {
          "output_type": "stream",
          "text": [
            "DISCORD_TOKEN=ODM5NjM0MTAxNDgwMzI1MjEw.YJMgMQ.rx8XqmlnOjNUfJ3DaXykCoa1fM8\n",
            "BOT_PREFIX = ['t.']\n"
          ],
          "name": "stdout"
        }
      ]
    },
    {
      "cell_type": "markdown",
      "metadata": {
        "id": "aOUWZD17oNLI"
      },
      "source": [
        "The last step is getting the database to work. There is some logic in the bot that requires sqlite 3.24 and above. In my experience, simply doing `apt install sqlite3` doesn't work."
      ]
    },
    {
      "cell_type": "code",
      "metadata": {
        "colab": {
          "base_uri": "https://localhost:8080/"
        },
        "id": "CTXVgCrdoI66",
        "outputId": "7eab3fc1-e9b8-4722-e00e-2deb95dd23fb"
      },
      "source": [
        "!apt install sqlite3"
      ],
      "execution_count": null,
      "outputs": [
        {
          "output_type": "stream",
          "text": [
            "Reading package lists... Done\n",
            "Building dependency tree       \n",
            "Reading state information... Done\n",
            "Suggested packages:\n",
            "  sqlite3-doc\n",
            "The following NEW packages will be installed:\n",
            "  sqlite3\n",
            "0 upgraded, 1 newly installed, 0 to remove and 39 not upgraded.\n",
            "Need to get 752 kB of archives.\n",
            "After this operation, 2,482 kB of additional disk space will be used.\n",
            "Get:1 http://archive.ubuntu.com/ubuntu bionic-updates/main amd64 sqlite3 amd64 3.22.0-1ubuntu0.4 [752 kB]\n",
            "Fetched 752 kB in 1s (781 kB/s)\n",
            "Selecting previously unselected package sqlite3.\n",
            "(Reading database ... 160772 files and directories currently installed.)\n",
            "Preparing to unpack .../sqlite3_3.22.0-1ubuntu0.4_amd64.deb ...\n",
            "Unpacking sqlite3 (3.22.0-1ubuntu0.4) ...\n",
            "Setting up sqlite3 (3.22.0-1ubuntu0.4) ...\n",
            "Processing triggers for man-db (2.8.3-2ubuntu0.1) ...\n"
          ],
          "name": "stdout"
        }
      ]
    },
    {
      "cell_type": "code",
      "metadata": {
        "colab": {
          "base_uri": "https://localhost:8080/"
        },
        "id": "qROsnJb_oaql",
        "outputId": "c63e862a-823b-4d62-a18b-16fdb1f189df"
      },
      "source": [
        "!sqlite3 --version"
      ],
      "execution_count": null,
      "outputs": [
        {
          "output_type": "stream",
          "text": [
            "3.22.0 2018-01-22 18:45:57 0c55d179733b46d8d0ba4d88e01a25e10677046ee3da1d5b1581e86726f2alt1\n"
          ],
          "name": "stdout"
        }
      ]
    },
    {
      "cell_type": "markdown",
      "metadata": {
        "id": "M8FCTe9Xod6K"
      },
      "source": [
        "As 3.22 is not enough, we're going to install from [source][1]. A good tutorial can be found [here][2]. At the time of this writing, 3.36 is the latest version, however feel free to install any version.\n",
        " \n",
        "[1]: https://www.sqlite.org/download.html\n",
        "[2]: https://www.vultr.com/docs/how-to-install-the-latest-version-of-sqlite3"
      ]
    },
    {
      "cell_type": "code",
      "metadata": {
        "colab": {
          "base_uri": "https://localhost:8080/"
        },
        "id": "L32eBP1codA5",
        "outputId": "b11442a7-4369-43b9-aefe-082c134b8680"
      },
      "source": [
        "%cd ../../"
      ],
      "execution_count": null,
      "outputs": [
        {
          "output_type": "stream",
          "text": [
            "/content\n"
          ],
          "name": "stdout"
        }
      ]
    },
    {
      "cell_type": "code",
      "metadata": {
        "colab": {
          "base_uri": "https://localhost:8080/"
        },
        "id": "DsvOBIdlo4_M",
        "outputId": "710dae37-a804-495c-d4df-a27f0c5f34c6"
      },
      "source": [
        "!wget https://www.sqlite.org/2021/sqlite-autoconf-3360000.tar.gz; tar xvfz sqlite-autoconf-3360000.tar.gz"
      ],
      "execution_count": null,
      "outputs": [
        {
          "output_type": "stream",
          "text": [
            "--2021-06-20 18:23:06--  https://www.sqlite.org/2021/sqlite-autoconf-3360000.tar.gz\n",
            "Resolving www.sqlite.org (www.sqlite.org)... 45.33.6.223, 2600:3c00::f03c:91ff:fe96:b959\n",
            "Connecting to www.sqlite.org (www.sqlite.org)|45.33.6.223|:443... connected.\n",
            "HTTP request sent, awaiting response... 200 OK\n",
            "Length: 2977080 (2.8M) [application/x-gzip]\n",
            "Saving to: ‘sqlite-autoconf-3360000.tar.gz’\n",
            "\n",
            "sqlite-autoconf-336 100%[===================>]   2.84M  --.-KB/s    in 0.1s    \n",
            "\n",
            "2021-06-20 18:23:07 (23.2 MB/s) - ‘sqlite-autoconf-3360000.tar.gz’ saved [2977080/2977080]\n",
            "\n",
            "sqlite-autoconf-3360000/\n",
            "sqlite-autoconf-3360000/sqlite3.rc\n",
            "sqlite-autoconf-3360000/README.txt\n",
            "sqlite-autoconf-3360000/aclocal.m4\n",
            "sqlite-autoconf-3360000/sqlite3.c\n",
            "sqlite-autoconf-3360000/Makefile.am\n",
            "sqlite-autoconf-3360000/configure\n",
            "sqlite-autoconf-3360000/configure.ac\n",
            "sqlite-autoconf-3360000/config.guess\n",
            "sqlite-autoconf-3360000/Makefile.in\n",
            "sqlite-autoconf-3360000/config.sub\n",
            "sqlite-autoconf-3360000/install-sh\n",
            "sqlite-autoconf-3360000/sqlite3rc.h\n",
            "sqlite-autoconf-3360000/sqlite3.1\n",
            "sqlite-autoconf-3360000/shell.c\n",
            "sqlite-autoconf-3360000/sqlite3.pc.in\n",
            "sqlite-autoconf-3360000/Replace.cs\n",
            "sqlite-autoconf-3360000/depcomp\n",
            "sqlite-autoconf-3360000/missing\n",
            "sqlite-autoconf-3360000/ltmain.sh\n",
            "sqlite-autoconf-3360000/sqlite3ext.h\n",
            "sqlite-autoconf-3360000/Makefile.msc\n",
            "sqlite-autoconf-3360000/sqlite3.h\n",
            "sqlite-autoconf-3360000/Makefile.fallback\n",
            "sqlite-autoconf-3360000/tea/\n",
            "sqlite-autoconf-3360000/tea/aclocal.m4\n",
            "sqlite-autoconf-3360000/tea/configure\n",
            "sqlite-autoconf-3360000/tea/configure.ac\n",
            "sqlite-autoconf-3360000/tea/Makefile.in\n",
            "sqlite-autoconf-3360000/tea/README\n",
            "sqlite-autoconf-3360000/tea/generic/\n",
            "sqlite-autoconf-3360000/tea/generic/tclsqlite3.c\n",
            "sqlite-autoconf-3360000/tea/tclconfig/\n",
            "sqlite-autoconf-3360000/tea/tclconfig/tcl.m4\n",
            "sqlite-autoconf-3360000/tea/tclconfig/install-sh\n",
            "sqlite-autoconf-3360000/tea/doc/\n",
            "sqlite-autoconf-3360000/tea/doc/sqlite3.n\n",
            "sqlite-autoconf-3360000/tea/pkgIndex.tcl.in\n",
            "sqlite-autoconf-3360000/tea/win/\n",
            "sqlite-autoconf-3360000/tea/win/rules.vc\n",
            "sqlite-autoconf-3360000/tea/win/nmakehlp.c\n",
            "sqlite-autoconf-3360000/tea/win/makefile.vc\n",
            "sqlite-autoconf-3360000/tea/license.terms\n",
            "sqlite-autoconf-3360000/INSTALL\n",
            "sqlite-autoconf-3360000/compile\n"
          ],
          "name": "stdout"
        }
      ]
    },
    {
      "cell_type": "code",
      "metadata": {
        "colab": {
          "base_uri": "https://localhost:8080/"
        },
        "id": "vUDESp911upM",
        "outputId": "a8542b6f-d7ed-46ab-9c71-601654a433a2"
      },
      "source": [
        "%cd sqlite-autoconf-3360000/\n",
        "! ./configure; make; sudo make install"
      ],
      "execution_count": null,
      "outputs": [
        {
          "output_type": "stream",
          "text": [
            "/content/sqlite-autoconf-3360000\n",
            "checking for a BSD-compatible install... /usr/bin/install -c\n",
            "checking whether build environment is sane... yes\n",
            "checking for a thread-safe mkdir -p... /bin/mkdir -p\n",
            "checking for gawk... no\n",
            "checking for mawk... mawk\n",
            "checking whether make sets $(MAKE)... yes\n",
            "checking whether make supports nested variables... yes\n",
            "checking for style of include used by make... GNU\n",
            "checking for gcc... gcc\n",
            "checking whether the C compiler works... yes\n",
            "checking for C compiler default output file name... a.out\n",
            "checking for suffix of executables... \n",
            "checking whether we are cross compiling... no\n",
            "checking for suffix of object files... o\n",
            "checking whether we are using the GNU C compiler... yes\n",
            "checking whether gcc accepts -g... yes\n",
            "checking for gcc option to accept ISO C89... none needed\n",
            "checking whether gcc understands -c and -o together... yes\n",
            "checking dependency style of gcc... gcc3\n",
            "checking for special C compiler options needed for large files... no\n",
            "checking for _FILE_OFFSET_BITS value needed for large files... no\n",
            "checking for gcc... (cached) gcc\n",
            "checking whether we are using the GNU C compiler... (cached) yes\n",
            "checking whether gcc accepts -g... (cached) yes\n",
            "checking for gcc option to accept ISO C89... (cached) none needed\n",
            "checking whether gcc understands -c and -o together... (cached) yes\n",
            "checking dependency style of gcc... (cached) gcc3\n",
            "checking build system type... x86_64-pc-linux-gnu\n",
            "checking host system type... x86_64-pc-linux-gnu\n",
            "checking how to print strings... printf\n",
            "checking for a sed that does not truncate output... /bin/sed\n",
            "checking for grep that handles long lines and -e... /bin/grep\n",
            "checking for egrep... /bin/grep -E\n",
            "checking for fgrep... /bin/grep -F\n",
            "checking for ld used by gcc... /usr/bin/ld\n",
            "checking if the linker (/usr/bin/ld) is GNU ld... yes\n",
            "checking for BSD- or MS-compatible name lister (nm)... /usr/bin/nm -B\n",
            "checking the name lister (/usr/bin/nm -B) interface... BSD nm\n",
            "checking whether ln -s works... yes\n",
            "checking the maximum length of command line arguments... 1572864\n",
            "checking how to convert x86_64-pc-linux-gnu file names to x86_64-pc-linux-gnu format... func_convert_file_noop\n",
            "checking how to convert x86_64-pc-linux-gnu file names to toolchain format... func_convert_file_noop\n",
            "checking for /usr/bin/ld option to reload object files... -r\n",
            "checking for objdump... objdump\n",
            "checking how to recognize dependent libraries... pass_all\n",
            "checking for dlltool... no\n",
            "checking how to associate runtime and link libraries... printf %s\\n\n",
            "checking for ar... ar\n",
            "checking for archiver @FILE support... @\n",
            "checking for strip... strip\n",
            "checking for ranlib... ranlib\n",
            "checking command to parse /usr/bin/nm -B output from gcc object... ok\n",
            "checking for sysroot... no\n",
            "checking for a working dd... /bin/dd\n",
            "checking how to truncate binary pipes... /bin/dd bs=4096 count=1\n",
            "./configure: line 7449: /usr/bin/file: No such file or directory\n",
            "checking for mt... no\n",
            "checking if : is a manifest tool... no\n",
            "checking how to run the C preprocessor... gcc -E\n",
            "checking for ANSI C header files... yes\n",
            "checking for sys/types.h... yes\n",
            "checking for sys/stat.h... yes\n",
            "checking for stdlib.h... yes\n",
            "checking for string.h... yes\n",
            "checking for memory.h... yes\n",
            "checking for strings.h... yes\n",
            "checking for inttypes.h... yes\n",
            "checking for stdint.h... yes\n",
            "checking for unistd.h... yes\n",
            "checking for dlfcn.h... yes\n",
            "checking for objdir... .libs\n",
            "checking if gcc supports -fno-rtti -fno-exceptions... no\n",
            "checking for gcc option to produce PIC... -fPIC -DPIC\n",
            "checking if gcc PIC flag -fPIC -DPIC works... yes\n",
            "checking if gcc static flag -static works... yes\n",
            "checking if gcc supports -c -o file.o... yes\n",
            "checking if gcc supports -c -o file.o... (cached) yes\n",
            "checking whether the gcc linker (/usr/bin/ld) supports shared libraries... yes\n",
            "checking whether -lc should be explicitly linked in... no\n",
            "checking dynamic linker characteristics... GNU/Linux ld.so\n",
            "checking how to hardcode library paths into programs... immediate\n",
            "checking whether stripping libraries is possible... yes\n",
            "checking if libtool supports shared libraries... yes\n",
            "checking whether to build shared libraries... yes\n",
            "checking whether to build static libraries... yes\n",
            "checking for fdatasync... yes\n",
            "checking for usleep... yes\n",
            "checking for fullfsync... no\n",
            "checking for localtime_r... yes\n",
            "checking for gmtime_r... yes\n",
            "checking whether strerror_r is declared... yes\n",
            "checking for strerror_r... yes\n",
            "checking whether strerror_r returns char *... no\n",
            "checking editline/readline.h usability... no\n",
            "checking editline/readline.h presence... no\n",
            "checking for editline/readline.h... no\n",
            "checking readline/readline.h usability... yes\n",
            "checking readline/readline.h presence... yes\n",
            "checking for readline/readline.h... yes\n",
            "checking for library containing tgetent... -ltermcap\n",
            "checking for library containing readline... -lreadline\n",
            "checking for library containing pthread_create... -lpthread\n",
            "checking for library containing pthread_mutexattr_init... none required\n",
            "checking for library containing dlopen... -ldl\n",
            "checking for whether to support dynamic extensions... yes\n",
            "checking SQL math functions... enabled\n",
            "checking for library containing ceil... -lm\n",
            "checking FTS4 extension... enabled\n",
            "checking FTS3 extension... disabled\n",
            "checking FTS5 extension... enabled\n",
            "checking for library containing log... none required\n",
            "checking JSON functions... enabled\n",
            "checking RTREE extension... enabled\n",
            "checking Session extension... disabled\n",
            "checking Build type... release\n",
            "checking for posix_fallocate... yes\n",
            "checking zlib.h usability... yes\n",
            "checking zlib.h presence... yes\n",
            "checking for zlib.h... yes\n",
            "checking for library containing deflate... -lz\n",
            "checking for library containing system... none required\n",
            "checking that generated files are newer than configure... done\n",
            "configure: creating ./config.status\n",
            "config.status: creating Makefile\n",
            "config.status: creating sqlite3.pc\n",
            "config.status: executing depfiles commands\n",
            "config.status: executing libtool commands\n",
            "/bin/bash ./libtool  --tag=CC   --mode=compile gcc -DPACKAGE_NAME=\\\"sqlite\\\" -DPACKAGE_TARNAME=\\\"sqlite\\\" -DPACKAGE_VERSION=\\\"3.36.0\\\" -DPACKAGE_STRING=\\\"sqlite\\ 3.36.0\\\" -DPACKAGE_BUGREPORT=\\\"http://www.sqlite.org\\\" -DPACKAGE_URL=\\\"\\\" -DPACKAGE=\\\"sqlite\\\" -DVERSION=\\\"3.36.0\\\" -DSTDC_HEADERS=1 -DHAVE_SYS_TYPES_H=1 -DHAVE_SYS_STAT_H=1 -DHAVE_STDLIB_H=1 -DHAVE_STRING_H=1 -DHAVE_MEMORY_H=1 -DHAVE_STRINGS_H=1 -DHAVE_INTTYPES_H=1 -DHAVE_STDINT_H=1 -DHAVE_UNISTD_H=1 -DHAVE_DLFCN_H=1 -DLT_OBJDIR=\\\".libs/\\\" -DHAVE_FDATASYNC=1 -DHAVE_USLEEP=1 -DHAVE_LOCALTIME_R=1 -DHAVE_GMTIME_R=1 -DHAVE_DECL_STRERROR_R=1 -DHAVE_STRERROR_R=1 -DHAVE_READLINE_READLINE_H=1 -DHAVE_READLINE=1 -DHAVE_POSIX_FALLOCATE=1 -DHAVE_ZLIB_H=1 -I.    -D_REENTRANT=1 -DSQLITE_THREADSAFE=1 -DSQLITE_ENABLE_MATH_FUNCTIONS -DSQLITE_ENABLE_FTS4 -DSQLITE_ENABLE_FTS5 -DSQLITE_ENABLE_JSON1 -DSQLITE_ENABLE_RTREE -DSQLITE_ENABLE_GEOPOLY -DSQLITE_HAVE_ZLIB  -g -O2 -MT sqlite3.lo -MD -MP -MF .deps/sqlite3.Tpo -c -o sqlite3.lo sqlite3.c\n",
            "libtool: compile:  gcc -DPACKAGE_NAME=\\\"sqlite\\\" -DPACKAGE_TARNAME=\\\"sqlite\\\" -DPACKAGE_VERSION=\\\"3.36.0\\\" \"-DPACKAGE_STRING=\\\"sqlite 3.36.0\\\"\" -DPACKAGE_BUGREPORT=\\\"http://www.sqlite.org\\\" -DPACKAGE_URL=\\\"\\\" -DPACKAGE=\\\"sqlite\\\" -DVERSION=\\\"3.36.0\\\" -DSTDC_HEADERS=1 -DHAVE_SYS_TYPES_H=1 -DHAVE_SYS_STAT_H=1 -DHAVE_STDLIB_H=1 -DHAVE_STRING_H=1 -DHAVE_MEMORY_H=1 -DHAVE_STRINGS_H=1 -DHAVE_INTTYPES_H=1 -DHAVE_STDINT_H=1 -DHAVE_UNISTD_H=1 -DHAVE_DLFCN_H=1 -DLT_OBJDIR=\\\".libs/\\\" -DHAVE_FDATASYNC=1 -DHAVE_USLEEP=1 -DHAVE_LOCALTIME_R=1 -DHAVE_GMTIME_R=1 -DHAVE_DECL_STRERROR_R=1 -DHAVE_STRERROR_R=1 -DHAVE_READLINE_READLINE_H=1 -DHAVE_READLINE=1 -DHAVE_POSIX_FALLOCATE=1 -DHAVE_ZLIB_H=1 -I. -D_REENTRANT=1 -DSQLITE_THREADSAFE=1 -DSQLITE_ENABLE_MATH_FUNCTIONS -DSQLITE_ENABLE_FTS4 -DSQLITE_ENABLE_FTS5 -DSQLITE_ENABLE_JSON1 -DSQLITE_ENABLE_RTREE -DSQLITE_ENABLE_GEOPOLY -DSQLITE_HAVE_ZLIB -g -O2 -MT sqlite3.lo -MD -MP -MF .deps/sqlite3.Tpo -c sqlite3.c  -fPIC -DPIC -o .libs/sqlite3.o\n",
            "libtool: compile:  gcc -DPACKAGE_NAME=\\\"sqlite\\\" -DPACKAGE_TARNAME=\\\"sqlite\\\" -DPACKAGE_VERSION=\\\"3.36.0\\\" \"-DPACKAGE_STRING=\\\"sqlite 3.36.0\\\"\" -DPACKAGE_BUGREPORT=\\\"http://www.sqlite.org\\\" -DPACKAGE_URL=\\\"\\\" -DPACKAGE=\\\"sqlite\\\" -DVERSION=\\\"3.36.0\\\" -DSTDC_HEADERS=1 -DHAVE_SYS_TYPES_H=1 -DHAVE_SYS_STAT_H=1 -DHAVE_STDLIB_H=1 -DHAVE_STRING_H=1 -DHAVE_MEMORY_H=1 -DHAVE_STRINGS_H=1 -DHAVE_INTTYPES_H=1 -DHAVE_STDINT_H=1 -DHAVE_UNISTD_H=1 -DHAVE_DLFCN_H=1 -DLT_OBJDIR=\\\".libs/\\\" -DHAVE_FDATASYNC=1 -DHAVE_USLEEP=1 -DHAVE_LOCALTIME_R=1 -DHAVE_GMTIME_R=1 -DHAVE_DECL_STRERROR_R=1 -DHAVE_STRERROR_R=1 -DHAVE_READLINE_READLINE_H=1 -DHAVE_READLINE=1 -DHAVE_POSIX_FALLOCATE=1 -DHAVE_ZLIB_H=1 -I. -D_REENTRANT=1 -DSQLITE_THREADSAFE=1 -DSQLITE_ENABLE_MATH_FUNCTIONS -DSQLITE_ENABLE_FTS4 -DSQLITE_ENABLE_FTS5 -DSQLITE_ENABLE_JSON1 -DSQLITE_ENABLE_RTREE -DSQLITE_ENABLE_GEOPOLY -DSQLITE_HAVE_ZLIB -g -O2 -MT sqlite3.lo -MD -MP -MF .deps/sqlite3.Tpo -c sqlite3.c -o sqlite3.o >/dev/null 2>&1\n",
            "mv -f .deps/sqlite3.Tpo .deps/sqlite3.Plo\n",
            "/bin/bash ./libtool  --tag=CC   --mode=link gcc -D_REENTRANT=1 -DSQLITE_THREADSAFE=1 -DSQLITE_ENABLE_MATH_FUNCTIONS -DSQLITE_ENABLE_FTS4 -DSQLITE_ENABLE_FTS5 -DSQLITE_ENABLE_JSON1 -DSQLITE_ENABLE_RTREE -DSQLITE_ENABLE_GEOPOLY -DSQLITE_HAVE_ZLIB  -g -O2 -no-undefined -version-info 8:6:8  -o libsqlite3.la -rpath /usr/local/lib sqlite3.lo  -lz -lm -ldl -lpthread \n",
            "libtool: link: gcc -shared  -fPIC -DPIC  .libs/sqlite3.o   -lz -lm -ldl -lpthread  -g -O2   -Wl,-soname -Wl,libsqlite3.so.0 -o .libs/libsqlite3.so.0.8.6\n",
            "libtool: link: (cd \".libs\" && rm -f \"libsqlite3.so.0\" && ln -s \"libsqlite3.so.0.8.6\" \"libsqlite3.so.0\")\n",
            "libtool: link: (cd \".libs\" && rm -f \"libsqlite3.so\" && ln -s \"libsqlite3.so.0.8.6\" \"libsqlite3.so\")\n",
            "libtool: link: ar cru .libs/libsqlite3.a  sqlite3.o\n",
            "ar: `u' modifier ignored since `D' is the default (see `U')\n",
            "libtool: link: ranlib .libs/libsqlite3.a\n",
            "libtool: link: ( cd \".libs\" && rm -f \"libsqlite3.la\" && ln -s \"../libsqlite3.la\" \"libsqlite3.la\" )\n",
            "gcc -DPACKAGE_NAME=\\\"sqlite\\\" -DPACKAGE_TARNAME=\\\"sqlite\\\" -DPACKAGE_VERSION=\\\"3.36.0\\\" -DPACKAGE_STRING=\\\"sqlite\\ 3.36.0\\\" -DPACKAGE_BUGREPORT=\\\"http://www.sqlite.org\\\" -DPACKAGE_URL=\\\"\\\" -DPACKAGE=\\\"sqlite\\\" -DVERSION=\\\"3.36.0\\\" -DSTDC_HEADERS=1 -DHAVE_SYS_TYPES_H=1 -DHAVE_SYS_STAT_H=1 -DHAVE_STDLIB_H=1 -DHAVE_STRING_H=1 -DHAVE_MEMORY_H=1 -DHAVE_STRINGS_H=1 -DHAVE_INTTYPES_H=1 -DHAVE_STDINT_H=1 -DHAVE_UNISTD_H=1 -DHAVE_DLFCN_H=1 -DLT_OBJDIR=\\\".libs/\\\" -DHAVE_FDATASYNC=1 -DHAVE_USLEEP=1 -DHAVE_LOCALTIME_R=1 -DHAVE_GMTIME_R=1 -DHAVE_DECL_STRERROR_R=1 -DHAVE_STRERROR_R=1 -DHAVE_READLINE_READLINE_H=1 -DHAVE_READLINE=1 -DHAVE_POSIX_FALLOCATE=1 -DHAVE_ZLIB_H=1 -I.    -D_REENTRANT=1 -DSQLITE_THREADSAFE=1 -DSQLITE_ENABLE_MATH_FUNCTIONS -DSQLITE_ENABLE_FTS4 -DSQLITE_ENABLE_FTS5 -DSQLITE_ENABLE_JSON1 -DSQLITE_ENABLE_RTREE -DSQLITE_ENABLE_GEOPOLY -DSQLITE_HAVE_ZLIB  -DSQLITE_ENABLE_EXPLAIN_COMMENTS -DSQLITE_ENABLE_DBPAGE_VTAB -DSQLITE_ENABLE_STMTVTAB -DSQLITE_ENABLE_DBSTAT_VTAB  -g -O2 -MT sqlite3-shell.o -MD -MP -MF .deps/sqlite3-shell.Tpo -c -o sqlite3-shell.o `test -f 'shell.c' || echo './'`shell.c\n",
            "mv -f .deps/sqlite3-shell.Tpo .deps/sqlite3-shell.Po\n",
            "gcc -DPACKAGE_NAME=\\\"sqlite\\\" -DPACKAGE_TARNAME=\\\"sqlite\\\" -DPACKAGE_VERSION=\\\"3.36.0\\\" -DPACKAGE_STRING=\\\"sqlite\\ 3.36.0\\\" -DPACKAGE_BUGREPORT=\\\"http://www.sqlite.org\\\" -DPACKAGE_URL=\\\"\\\" -DPACKAGE=\\\"sqlite\\\" -DVERSION=\\\"3.36.0\\\" -DSTDC_HEADERS=1 -DHAVE_SYS_TYPES_H=1 -DHAVE_SYS_STAT_H=1 -DHAVE_STDLIB_H=1 -DHAVE_STRING_H=1 -DHAVE_MEMORY_H=1 -DHAVE_STRINGS_H=1 -DHAVE_INTTYPES_H=1 -DHAVE_STDINT_H=1 -DHAVE_UNISTD_H=1 -DHAVE_DLFCN_H=1 -DLT_OBJDIR=\\\".libs/\\\" -DHAVE_FDATASYNC=1 -DHAVE_USLEEP=1 -DHAVE_LOCALTIME_R=1 -DHAVE_GMTIME_R=1 -DHAVE_DECL_STRERROR_R=1 -DHAVE_STRERROR_R=1 -DHAVE_READLINE_READLINE_H=1 -DHAVE_READLINE=1 -DHAVE_POSIX_FALLOCATE=1 -DHAVE_ZLIB_H=1 -I.    -D_REENTRANT=1 -DSQLITE_THREADSAFE=1 -DSQLITE_ENABLE_MATH_FUNCTIONS -DSQLITE_ENABLE_FTS4 -DSQLITE_ENABLE_FTS5 -DSQLITE_ENABLE_JSON1 -DSQLITE_ENABLE_RTREE -DSQLITE_ENABLE_GEOPOLY -DSQLITE_HAVE_ZLIB  -DSQLITE_ENABLE_EXPLAIN_COMMENTS -DSQLITE_ENABLE_DBPAGE_VTAB -DSQLITE_ENABLE_STMTVTAB -DSQLITE_ENABLE_DBSTAT_VTAB  -g -O2 -MT sqlite3-sqlite3.o -MD -MP -MF .deps/sqlite3-sqlite3.Tpo -c -o sqlite3-sqlite3.o `test -f 'sqlite3.c' || echo './'`sqlite3.c\n",
            "mv -f .deps/sqlite3-sqlite3.Tpo .deps/sqlite3-sqlite3.Po\n",
            "/bin/bash ./libtool  --tag=CC   --mode=link gcc -D_REENTRANT=1 -DSQLITE_THREADSAFE=1 -DSQLITE_ENABLE_MATH_FUNCTIONS -DSQLITE_ENABLE_FTS4 -DSQLITE_ENABLE_FTS5 -DSQLITE_ENABLE_JSON1 -DSQLITE_ENABLE_RTREE -DSQLITE_ENABLE_GEOPOLY -DSQLITE_HAVE_ZLIB  -DSQLITE_ENABLE_EXPLAIN_COMMENTS -DSQLITE_ENABLE_DBPAGE_VTAB -DSQLITE_ENABLE_STMTVTAB -DSQLITE_ENABLE_DBSTAT_VTAB  -g -O2   -o sqlite3 sqlite3-shell.o sqlite3-sqlite3.o -lreadline -ltermcap  -lz -lm -ldl -lpthread \n",
            "libtool: link: gcc -D_REENTRANT=1 -DSQLITE_THREADSAFE=1 -DSQLITE_ENABLE_MATH_FUNCTIONS -DSQLITE_ENABLE_FTS4 -DSQLITE_ENABLE_FTS5 -DSQLITE_ENABLE_JSON1 -DSQLITE_ENABLE_RTREE -DSQLITE_ENABLE_GEOPOLY -DSQLITE_HAVE_ZLIB -DSQLITE_ENABLE_EXPLAIN_COMMENTS -DSQLITE_ENABLE_DBPAGE_VTAB -DSQLITE_ENABLE_STMTVTAB -DSQLITE_ENABLE_DBSTAT_VTAB -g -O2 -o sqlite3 sqlite3-shell.o sqlite3-sqlite3.o  -lreadline -ltermcap -lz -lm -ldl -lpthread\n",
            "make[1]: Entering directory '/content/sqlite-autoconf-3360000'\n",
            " /bin/mkdir -p '/usr/local/lib'\n",
            " /bin/bash ./libtool   --mode=install /usr/bin/install -c   libsqlite3.la '/usr/local/lib'\n",
            "libtool: install: /usr/bin/install -c .libs/libsqlite3.so.0.8.6 /usr/local/lib/libsqlite3.so.0.8.6\n",
            "libtool: install: (cd /usr/local/lib && { ln -s -f libsqlite3.so.0.8.6 libsqlite3.so.0 || { rm -f libsqlite3.so.0 && ln -s libsqlite3.so.0.8.6 libsqlite3.so.0; }; })\n",
            "libtool: install: (cd /usr/local/lib && { ln -s -f libsqlite3.so.0.8.6 libsqlite3.so || { rm -f libsqlite3.so && ln -s libsqlite3.so.0.8.6 libsqlite3.so; }; })\n",
            "libtool: install: /usr/bin/install -c .libs/libsqlite3.lai /usr/local/lib/libsqlite3.la\n",
            "libtool: install: /usr/bin/install -c .libs/libsqlite3.a /usr/local/lib/libsqlite3.a\n",
            "libtool: install: chmod 644 /usr/local/lib/libsqlite3.a\n",
            "libtool: install: ranlib /usr/local/lib/libsqlite3.a\n",
            "libtool: finish: PATH=\"/usr/local/sbin:/usr/local/bin:/usr/sbin:/usr/bin:/sbin:/bin:/snap/bin:/sbin\" ldconfig -n /usr/local/lib\n",
            "----------------------------------------------------------------------\n",
            "Libraries have been installed in:\n",
            "   /usr/local/lib\n",
            "\n",
            "If you ever happen to want to link against installed libraries\n",
            "in a given directory, LIBDIR, you must either use libtool, and\n",
            "specify the full pathname of the library, or use the '-LLIBDIR'\n",
            "flag during linking and do at least one of the following:\n",
            "   - add LIBDIR to the 'LD_LIBRARY_PATH' environment variable\n",
            "     during execution\n",
            "   - add LIBDIR to the 'LD_RUN_PATH' environment variable\n",
            "     during linking\n",
            "   - use the '-Wl,-rpath -Wl,LIBDIR' linker flag\n",
            "   - have your system administrator add LIBDIR to '/etc/ld.so.conf'\n",
            "\n",
            "See any operating system documentation about shared libraries for\n",
            "more information, such as the ld(1) and ld.so(8) manual pages.\n",
            "----------------------------------------------------------------------\n",
            " /bin/mkdir -p '/usr/local/bin'\n",
            "  /bin/bash ./libtool   --mode=install /usr/bin/install -c sqlite3 '/usr/local/bin'\n",
            "libtool: install: /usr/bin/install -c sqlite3 /usr/local/bin/sqlite3\n",
            " /bin/mkdir -p '/usr/local/include'\n",
            " /usr/bin/install -c -m 644 sqlite3.h sqlite3ext.h '/usr/local/include'\n",
            " /bin/mkdir -p '/usr/local/share/man/man1'\n",
            " /usr/bin/install -c -m 644 sqlite3.1 '/usr/local/share/man/man1'\n",
            " /bin/mkdir -p '/usr/local/lib/pkgconfig'\n",
            " /usr/bin/install -c -m 644 sqlite3.pc '/usr/local/lib/pkgconfig'\n",
            "make[1]: Leaving directory '/content/sqlite-autoconf-3360000'\n"
          ],
          "name": "stdout"
        }
      ]
    },
    {
      "cell_type": "code",
      "metadata": {
        "id": "U0G2VdRe2zJO"
      },
      "source": [
        "!cp .libs/libsqlite3.so.0.8.6 /usr/lib/x86_64-linux-gnu/libsqlite3.so.0.8.6"
      ],
      "execution_count": null,
      "outputs": []
    },
    {
      "cell_type": "markdown",
      "metadata": {
        "id": "q7D5FmSr2Ldm"
      },
      "source": [
        "Now verify your version of sqlite."
      ]
    },
    {
      "cell_type": "code",
      "metadata": {
        "colab": {
          "base_uri": "https://localhost:8080/"
        },
        "id": "YglmrWOR2Jvw",
        "outputId": "85f54461-1ff4-4658-d70f-c8f935e29559"
      },
      "source": [
        "!sqlite3 --version"
      ],
      "execution_count": null,
      "outputs": [
        {
          "output_type": "stream",
          "text": [
            "3.36.0 2021-06-18 18:36:39 5c9a6c06871cb9fe42814af9c039eb6da5427a6ec28f187af7ebfb62eafa66e5\n"
          ],
          "name": "stdout"
        }
      ]
    },
    {
      "cell_type": "markdown",
      "metadata": {
        "id": "JYQL3shl3AQc"
      },
      "source": [
        "Great! Now create the database. "
      ]
    },
    {
      "cell_type": "code",
      "metadata": {
        "colab": {
          "base_uri": "https://localhost:8080/"
        },
        "id": "jouDk5oo3DLu",
        "outputId": "5bbfe85d-3200-48d8-eb24-1c521978f264"
      },
      "source": [
        "%cd ../ImaginaryTicketing/src"
      ],
      "execution_count": null,
      "outputs": [
        {
          "output_type": "stream",
          "text": [
            "/content/ImaginaryTicketing/src\n"
          ],
          "name": "stdout"
        }
      ]
    },
    {
      "cell_type": "code",
      "metadata": {
        "id": "TofKtT033sSP"
      },
      "source": [
        "!sqlite3 utils/database/bot.db < utils/database/bot_schema.sql"
      ],
      "execution_count": null,
      "outputs": []
    },
    {
      "cell_type": "markdown",
      "metadata": {
        "id": "mXjr32zP3jMI"
      },
      "source": [
        "Finally, lets run our bot 📈."
      ]
    },
    {
      "cell_type": "code",
      "metadata": {
        "colab": {
          "base_uri": "https://localhost:8080/"
        },
        "id": "8k301Iu53ZU1",
        "outputId": "f6cd4275-2c1d-4ec1-b220-949b164b7b37"
      },
      "source": [
        "!python3 bot.py"
      ],
      "execution_count": null,
      "outputs": [
        {
          "output_type": "stream",
          "text": [
            "06-20 18:25:19 {bot.py:30} INFO - logging has started\n",
            "06-20 18:25:19 {client.py:257} WARNING - PyNaCl is not installed, voice will NOT be supported\n",
            "06-20 18:25:19 {bot.py:85} INFO - Loaded extension 'event'\n",
            "06-20 18:25:19 {bot.py:85} INFO - Loaded extension 'admin'\n",
            "06-20 18:25:19 {bot.py:85} INFO - Loaded extension 'smolcmds'\n",
            "06-20 18:25:19 {bot.py:85} INFO - Loaded extension 'submit'\n",
            "06-20 18:25:19 {client.py:510} INFO - logging in using static token\n",
            "06-20 18:25:22 {background.py:111} INFO - aaaa\n",
            "06-20 18:25:22 {background.py:111} INFO - misc-ticketing-dev-4\n",
            "06-20 18:25:22 {background.py:111} INFO - ctf-help-0x6f72656f73-0\n",
            "06-20 18:25:22 {background.py:111} INFO - ctf-help-closed-0x6f72656f73-55\n",
            "06-20 18:25:22 {background.py:111} INFO - ctf-help-closed-0x6f72656f73-56\n",
            "06-20 18:25:22 {background.py:111} INFO - ctf-help-0x6f72656f73-58\n",
            "06-20 18:25:22 {background.py:111} INFO - misc-0x6f72656f73-closed-0\n",
            "06-20 18:25:22 {background.py:111} INFO - ctf-help-0x6f72656f73-1\n",
            "06-20 18:25:22 {background.py:111} INFO - misc-0x6f72656f73-1\n",
            "06-20 18:25:22 {background.py:111} INFO - ctf-help-0x6f72656f73-52\n",
            "06-20 18:25:22 {background.py:111} INFO - ctf-help-closed-0x6f72656f73-0\n",
            "06-20 18:25:22 {bot.py:59} INFO - Logged in as TICKETING-DEV\n",
            "06-20 18:25:22 {bot.py:60} INFO - discord.py API version: 1.7.3\n",
            "06-20 18:25:22 {bot.py:61} INFO - Python version: 3.7.10\n",
            "06-20 18:25:22 {bot.py:63} INFO - Running on: Linux 5.4.104+ (posix)\n",
            "06-20 18:25:22 {bot.py:64} INFO - -------------------\n",
            "06-20 18:25:42 {bot.py:115} INFO - Executed delete command in ctf-help-0x6f72656f73-58 by 0x6F72656F73#0530 (ID: 650187980606275589)\n",
            "06-20 18:25:43 {bot.py:115} INFO - Executed close command in ctf-help-0x6f72656f73-58 by 0x6F72656F73#0530 (ID: 650187980606275589)\n",
            "06-20 18:26:00 {reactions.py:146} INFO - [CREATED] ctf-help-0x6f72656f73-0 by 0x6F72656F73#0530 (ID: 855168926740119615)\n",
            "06-20 18:26:01 {reactions.py:146} INFO - [CREATED] challenge-0x6f72656f73 by 0x6F72656F73#0530 (ID: 855168926740119615)\n",
            "06-20 18:26:02 {reactions.py:146} INFO - [CREATED] misc-0x6f72656f73-0 by 0x6F72656F73#0530 (ID: 855168926740119615)\n",
            "06-20 18:26:04 {bot.py:115} INFO - Executed setticketmessage command in general by 0x6F72656F73#0530 (ID: 650187980606275589)\n",
            "06-20 18:28:11 {client.py:718} INFO - Cleaning up tasks.\n",
            "06-20 18:28:11 {client.py:71} INFO - Cleaning up after 3 tasks.\n",
            "06-20 18:28:11 {client.py:76} INFO - All tasks finished cancelling.\n",
            "06-20 18:28:11 {client.py:94} INFO - Closing the event loop.\n"
          ],
          "name": "stdout"
        }
      ]
    }
  ]
}
